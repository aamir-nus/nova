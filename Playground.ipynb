{
 "cells": [
  {
   "cell_type": "code",
   "execution_count": null,
   "metadata": {},
   "outputs": [],
   "source": [
    "import os\n",
    "\n",
    "os.environ[\"LITELLM_BASE_URL\"] = \"http://192.168.0.105:4000\"\n",
    "os.environ[\"LITELLM_API_KEY\"] = \"sk-235bfb24-7434-4223-84fc-6cfb88c74ec9\""
   ]
  },
  {
   "cell_type": "code",
   "execution_count": null,
   "metadata": {},
   "outputs": [],
   "source": [
    "import os\n",
    "\n",
    "filenames = os.listdir('./Datasets/')\n",
    "files = []\n",
    "\n",
    "for filename in filenames:\n",
    "\n",
    "    with open('./Datasets/' + filename) as f:\n",
    "        files.append(f.readlines())\n",
    "\n",
    "files[-1]"
   ]
  },
  {
   "cell_type": "code",
   "execution_count": null,
   "metadata": {},
   "outputs": [],
   "source": [
    "from nova.index_builders import TFIDFIndexBuilder, BM25IndexBuilder\n",
    "\n",
    "# index_builder = TFIDFIndexBuilder(config={})\n",
    "index_builder = BM25IndexBuilder(config={})\n",
    "index_builder.build_index(files[-1])"
   ]
  },
  {
   "cell_type": "code",
   "execution_count": null,
   "metadata": {},
   "outputs": [],
   "source": [
    "# index_builder.get_document_index(document=\"what do the younger wearers prefer?\")\n",
    "index_builder.retrieve_topk(query=\"what do the younger wearers prefer?\", topk=5)"
   ]
  },
  {
   "cell_type": "code",
   "execution_count": null,
   "metadata": {},
   "outputs": [],
   "source": [
    "from nova.contextual_retrievers import DocumentRetriever, SentenceWindowRetriever"
   ]
  },
  {
   "cell_type": "code",
   "execution_count": null,
   "metadata": {},
   "outputs": [],
   "source": [
    "index_builder = DocumentRetriever(config={}, logger=None)\n",
    "# index_builder = SentenceWindowRetriever(config={}, logger=None)\n",
    "index_builder.build_index(files[0]+files[-1])"
   ]
  },
  {
   "cell_type": "code",
   "execution_count": null,
   "metadata": {},
   "outputs": [],
   "source": [
    "# index_builder.get_document_index(document=\"what do the younger wearers prefer?\")\n",
    "index_builder.retrieve_topk(query=\"what do the older wearers prefer?\")"
   ]
  },
  {
   "cell_type": "code",
   "execution_count": null,
   "metadata": {},
   "outputs": [],
   "source": []
  }
 ],
 "metadata": {
  "kernelspec": {
   "display_name": "venv",
   "language": "python",
   "name": "python3"
  },
  "language_info": {
   "codemirror_mode": {
    "name": "ipython",
    "version": 3
   },
   "file_extension": ".py",
   "mimetype": "text/x-python",
   "name": "python",
   "nbconvert_exporter": "python",
   "pygments_lexer": "ipython3",
   "version": "3.10.0"
  }
 },
 "nbformat": 4,
 "nbformat_minor": 2
}
