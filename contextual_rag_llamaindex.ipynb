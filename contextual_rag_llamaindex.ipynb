{
  "cells": [
    {
      "cell_type": "markdown",
      "metadata": {
        "id": "Gy-Ht8NMPBnc"
      },
      "source": [
        "## Installation"
      ]
    },
    {
      "cell_type": "code",
      "execution_count": 1,
      "metadata": {
        "id": "Sh3ktI7CPBnd"
      },
      "outputs": [],
      "source": [
        "import nest_asyncio\n",
        "\n",
        "nest_asyncio.apply()"
      ]
    },
    {
      "cell_type": "markdown",
      "metadata": {
        "id": "3RFF_wbaPBnd"
      },
      "source": [
        "## Setup API Keys"
      ]
    },
    {
      "cell_type": "code",
      "execution_count": 2,
      "metadata": {
        "id": "hJx7nYJSPBne"
      },
      "outputs": [],
      "source": [
        "import os\n",
        "import warnings\n",
        "\n",
        "os.environ[\"LITELLM_BASE_URL\"] = \"https://litellm-temp-cyfjegbbfkh0buey.eastus-01.azurewebsites.net/\"\n",
        "os.environ[\"LITELLM_API_KEY\"] = \"sk-45309faf-a73a-4c21-a776-f10cfa92d7e1\"\n",
        "\n",
        "os.environ[\"ENV\"] = \"local\"\n",
        "\n",
        "os.environ[\"CUDA_VISIBLE_DEVICES\"] = \"2,3\"\n",
        "\n",
        "warnings.simplefilter('ignore')"
      ]
    },
    {
      "cell_type": "markdown",
      "metadata": {
        "id": "AnUUik4TPBne"
      },
      "source": [
        "## Setup Embedding model"
      ]
    },
    {
      "cell_type": "code",
      "execution_count": 3,
      "metadata": {
        "id": "--Qsh7vaPBnf"
      },
      "outputs": [
        {
          "name": "stderr",
          "output_type": "stream",
          "text": [
            "/tmp/ipykernel_471562/2585657273.py:9: LangChainDeprecationWarning: The class `HuggingFaceEmbeddings` was deprecated in LangChain 0.2.2 and will be removed in 1.0. An updated version of the class exists in the :class:`~langchain-huggingface package and should be used instead. To use it run `pip install -U :class:`~langchain-huggingface` and import as `from :class:`~langchain_huggingface import HuggingFaceEmbeddings``.\n",
            "  HuggingFaceEmbeddings(model_name=\"BAAI/bge-base-en-v1.5\")\n"
          ]
        }
      ],
      "source": [
        "from llama_index.embeddings.langchain import LangchainEmbedding\n",
        "from langchain.embeddings.huggingface import HuggingFaceEmbeddings\n",
        "\n",
        "from llama_index.core import Settings\n",
        "\n",
        "embed_model=LangchainEmbedding(\n",
        "    # HuggingFaceEmbeddings(model_name=\"sentence-transformers/all-mpnet-base-v2\")\n",
        "    # HuggingFaceEmbeddings(model_name=\"sentence-transformers/all-mpnet-base-v2\")\n",
        "    HuggingFaceEmbeddings(model_name=\"BAAI/bge-base-en-v1.5\")\n",
        "    )\n",
        "Settings.embed_model = embed_model"
      ]
    },
    {
      "cell_type": "markdown",
      "metadata": {
        "id": "lMI1bt-DPBng"
      },
      "source": [
        "## Load Data"
      ]
    },
    {
      "cell_type": "code",
      "execution_count": 4,
      "metadata": {
        "id": "1R5fcxFoPBng"
      },
      "outputs": [],
      "source": [
        "from llama_index.core import SimpleDirectoryReader\n",
        "\n",
        "#to choose specific files to load, just add the file path to the list\n",
        "documents = SimpleDirectoryReader(\n",
        "    input_files=[\"./Datasets/chicken_data/v2t_SpeakerResponse_cleaned.xlsx\"],\n",
        "    # input_files=[\"Datasets/medicine/Acetaminophen_Beyond_Pain_and_Fever-Relieving.txt\"]\n",
        "\n",
        ").load_data()\n",
        "\n",
        "WHOLE_DOCUMENT = \"\\n\\n\\n<<NEW DOCUMENT>>\\n\\n\\n\".join([document.text for document in documents])"
      ]
    },
    {
      "cell_type": "markdown",
      "metadata": {
        "id": "RDg2YfGFPBng"
      },
      "source": [
        "## Prompts for creating context for each chunk\n",
        "\n",
        "We will utilize anthropic prompt caching for creating context for each chunk. If you haven’t explored our integration yet, please take a moment to review it [here](https://github.com/run-llama/llama_index/blob/main/docs/docs/examples/llm/anthropic_prompt_caching.ipynb)."
      ]
    },
    {
      "cell_type": "code",
      "execution_count": 5,
      "metadata": {},
      "outputs": [],
      "source": [
        "### THIS IS WHAT ANTHROPIC ORIGINALLY WROTE. MAKE SURE WE USE CLAUDE-3.5-SONNET WITH THESE PROMPTS\n",
        "\n",
        "# prompt_document = \"\"\"<document>\n",
        "# {WHOLE_DOCUMENT}\n",
        "# </document>\"\"\"\n",
        "\n",
        "# prompt_chunk = \"\"\"Here is the chunk we want to situate within the whole document\n",
        "# <chunk>\n",
        "# {CHUNK_CONTENT}\n",
        "# </chunk>\n",
        "# Please give a short succinct context to situate this chunk within the overall document for the purposes of improving search retrieval of the chunk. Answer only with the succinct context and nothing else.\"\"\""
      ]
    },
    {
      "cell_type": "code",
      "execution_count": 6,
      "metadata": {
        "id": "_2nItcFDPBng"
      },
      "outputs": [],
      "source": [
        "### THIS IS WHAT I CHANGED IT TO FOR OUR TRANSCRIPTS. WE USE GEMINI-1.5-FLASH WITH THESE PROMPTS\n",
        "\n",
        "prompt_document = \"\"\"below is a transcript from which we will routinely pick excerpts to understand what they mean in the context of this document:\n",
        "<document>\n",
        "{WHOLE_DOCUMENT}\n",
        "</document>\"\"\"\n",
        "\n",
        "prompt_chunk = \"\"\"Here is the chunk we want to situate within the whole transcript\n",
        "<chunk>\n",
        "{CHUNK_CONTENT}\n",
        "</chunk>\n",
        "Please give a short succinct context to situate this chunk within the overall transcript for the purposes of improving search retrieval of the chunk. Mention what this chunk is specifically in response to/ what this chunk talks about as a summary. Please also add a list of keywords that are relevant to searching this chunk. Answer only with the context+keywords and nothing else.\"\"\""
      ]
    },
    {
      "cell_type": "markdown",
      "metadata": {
        "id": "ta3J1b35PBng"
      },
      "source": [
        "## Utils\n",
        "\n",
        "1. `create_contextual_nodes` - Function to create contextual nodes for a list of nodes.\n",
        "\n",
        "2. `create_embedding_retriever` - Function to create an embedding retriever for a list of nodes.\n",
        "\n",
        "3. `create_bm25_retriever` - Function to create a bm25 retriever for a list of nodes.\n",
        "\n",
        "4. `create_eval_dataset` - Function to create a evaluation dataset from a list of nodes.\n",
        "\n"
      ]
    },
    {
      "cell_type": "code",
      "execution_count": 7,
      "metadata": {
        "id": "ud8HY1CPPBng"
      },
      "outputs": [],
      "source": [
        "from llama_index.retrievers.bm25 import BM25Retriever\n",
        "\n",
        "from llama_index.core.retrievers import BaseRetriever, VectorIndexRetriever\n",
        "from llama_index.core.schema import NodeWithScore\n",
        "from llama_index.core import VectorStoreIndex, QueryBundle\n",
        "\n",
        "import pandas as pd\n",
        "import copy\n",
        "import Stemmer\n",
        "\n",
        "from tqdm import tqdm\n",
        "\n",
        "from typing import List"
      ]
    },
    {
      "cell_type": "code",
      "execution_count": 16,
      "metadata": {},
      "outputs": [
        {
          "name": "stdout",
          "output_type": "stream",
          "text": [
            "Changed model name to : gemini-1.5-flash...\n",
            "\n"
          ]
        }
      ],
      "source": [
        "from utils.llm_pipeline import AsyncLLMPipelineBuilder\n",
        "\n",
        "# llm = AsyncLLMPipelineBuilder(model=\"claude-3.5-sonnet\", system_prompt=WHOLE_DOCUMENT)\n",
        "llm = AsyncLLMPipelineBuilder(model=\"gemini-1.5-flash\", system_prompt=WHOLE_DOCUMENT)\n",
        "\n",
        "def create_contextual_nodes(nodes_, llm=llm, fuse_context: bool = False) -> List:\n",
        "    \"\"\"\n",
        "    Function to create contextual nodes from a list of nodes using the LLM\n",
        "\n",
        "    Steps:\n",
        "\n",
        "    - take the entire document and chunk it into smaller pieces\n",
        "    - send each (entire document, chunk) to the LLM to get a context for the chunk w.r.t the entire document\n",
        "    - add the context to the metadata of the chunk (if fuse_context is True, add the context to the text of the chunk as well)\n",
        "\n",
        "\n",
        "    Args:\n",
        "        - nodes_ (List): List of nodes to create contextual nodes from\n",
        "        - llm (AsyncLLMPipelineBuilder): LLM instance to use to create contextual nodes\n",
        "        - fuse_context (bool): Whether to fuse the context with the text of the node. Default is False.\n",
        "\n",
        "    Returns:\n",
        "        - List: List of contextual nodes\n",
        "    \"\"\"\n",
        "\n",
        "    # Create a list of messages to send to the LLM\n",
        "    user_prompts = [prompt_chunk.format(CHUNK_CONTENT=node.text) for node in nodes_]\n",
        "\n",
        "    # Send the messages to the LLM\n",
        "    responses = llm.batch_predict(user_prompts)\n",
        "\n",
        "    # Create a list of contextual nodes\n",
        "    nodes_modified = []\n",
        "    for node, response in zip(nodes_, responses):\n",
        "        new_node = copy.deepcopy(node)\n",
        "        new_node.metadata[\"context\"] = response\n",
        "        nodes_modified.append(new_node)\n",
        "\n",
        "    # IF fuse_context is set to True, add the context to the text of the node as well as the metadata\n",
        "\n",
        "    if fuse_context:\n",
        "        for i, node in enumerate(nodes_modified):\n",
        "            node.text = f\"{node.metadata['context']}\\n{node.text}\"\n",
        "\n",
        "    return nodes_modified"
      ]
    },
    {
      "cell_type": "code",
      "execution_count": 9,
      "metadata": {},
      "outputs": [],
      "source": [
        "from llama_index.core.postprocessor import SimilarityPostprocessor\n",
        "\n",
        "def create_embedding_retriever(nodes_, similarity_top_k=5):\n",
        "    \"\"\"Function to create an embedding retriever for a list of nodes\"\"\"\n",
        "    vector_index = VectorStoreIndex(nodes_)\n",
        "    retriever = vector_index.as_retriever(similarity_top_k=similarity_top_k)\n",
        "    return retriever\n",
        "\n",
        "def create_bm25_retriever(nodes_, similarity_top_k=5):\n",
        "    \"\"\"Function to create a bm25 retriever for a list of nodes\"\"\"\n",
        "    bm25_retriever = BM25Retriever.from_defaults(\n",
        "        nodes=nodes_,\n",
        "        similarity_top_k=similarity_top_k,\n",
        "        stemmer=Stemmer.Stemmer(\"english\"),\n",
        "        language=\"english\",\n",
        "    )\n",
        "    return bm25_retriever\n",
        "\n",
        "def set_node_ids(nodes_):\n",
        "    \"\"\"Function to set node ids for a list of nodes\"\"\"\n",
        "\n",
        "    # by default, the node ids are set to random uuids. To ensure same id's per run, we manually set them.\n",
        "    for index, node in enumerate(nodes_):\n",
        "        node.id_ = f\"node_{index}\"\n",
        "\n",
        "    return nodes_"
      ]
    },
    {
      "cell_type": "code",
      "execution_count": 10,
      "metadata": {},
      "outputs": [],
      "source": [
        "class EmbeddingRetriever(BaseRetriever):\n",
        "    \"\"\"Custom retriever that uses embedding retriever\"\"\"\n",
        "\n",
        "    def __init__(self,\n",
        "                 vector_retriever: VectorIndexRetriever,\n",
        "                 similarity_cutoff:float=0.25,\n",
        "                 debug:bool=False) -> None:\n",
        "        \"\"\"Init params.\"\"\"\n",
        "\n",
        "        self._vector_retriever = vector_retriever\n",
        "        self.node_postprocessors = [SimilarityPostprocessor(similarity_cutoff=similarity_cutoff)]\n",
        "\n",
        "        self.debug = debug\n",
        "\n",
        "        super().__init__()\n",
        "\n",
        "    def _retrieve(self, query_bundle: QueryBundle) -> List[NodeWithScore]:\n",
        "        \"\"\"Retrieve nodes given query, postprocesses them to keep only those that satisfy minimum similarity.\"\"\"\n",
        "\n",
        "        all_retrieved_nodes = self._vector_retriever.retrieve(query_bundle)\n",
        "\n",
        "        # postprocess nodes\n",
        "        relevant_nodes = self.node_postprocessors[0]._postprocess_nodes(nodes=all_retrieved_nodes,\n",
        "                                                                     query_bundle=query_bundle)\n",
        "        \n",
        "        if self.debug:\n",
        "            print(f\"Number of nodes retrieved : {len(all_retrieved_nodes)} | Number of relevant nodes: {len(relevant_nodes)}\")\n",
        "            print(f\"sample retrieved node : {all_retrieved_nodes[-1]}\\nsample relevant node : {relevant_nodes[-1]}\")\n",
        "        \n",
        "        return relevant_nodes\n",
        "    \n",
        "    def retrieve_results_for_query(self, query:str):\n",
        "        \"\"\"\n",
        "        Retrieve results for a query - used for testing purposes\n",
        "        \"\"\"\n",
        "\n",
        "        query_bundle = QueryBundle(query)\n",
        "        return self._retrieve(query_bundle)\n",
        "    \n",
        "class EmbeddingBM25Retriever(BaseRetriever):\n",
        "    \"\"\"Custom retriever that uses both embedding and bm25 retrievers\"\"\"\n",
        "\n",
        "    def __init__(\n",
        "        self,\n",
        "        vector_retriever: VectorIndexRetriever,\n",
        "        bm25_retriever: BM25Retriever,\n",
        "        similarity_cutoff:float=0.25,\n",
        "        debug:bool=False\n",
        "    ) -> None:\n",
        "        \"\"\"Init params.\"\"\"\n",
        "\n",
        "        self._vector_retriever = vector_retriever\n",
        "        self.bm25_retriever = bm25_retriever\n",
        "        self.node_postprocessors = [SimilarityPostprocessor(similarity_cutoff=similarity_cutoff)]\n",
        "\n",
        "        self.debug = debug\n",
        "\n",
        "        super().__init__()\n",
        "\n",
        "    def _retrieve(self, query_bundle: QueryBundle) -> List[NodeWithScore]:\n",
        "        \"\"\"Retrieve nodes given query.\"\"\"\n",
        "\n",
        "        vector_nodes = self._vector_retriever.retrieve(query_bundle)\n",
        "        bm25_nodes = self.bm25_retriever.retrieve(query_bundle)\n",
        "\n",
        "        vector_nodes.extend(bm25_nodes)\n",
        "\n",
        "        relevant_nodes = self.node_postprocessors[0]._postprocess_nodes(\n",
        "            vector_nodes, query_bundle\n",
        "        )\n",
        "\n",
        "        if self.debug:\n",
        "            print(f\"Number of nodes retrieved : {len(vector_nodes)} | Number of relevant nodes: {len(relevant_nodes)}\")\n",
        "            print(f\"sample vector node : {vector_nodes[-1]}\\nsample reranked node : {relevant_nodes[-1]}\")\n",
        "\n",
        "        return relevant_nodes\n",
        "    \n",
        "    def retrieve_results_for_query(self, query:str):\n",
        "        \"\"\"\n",
        "        Retrieve results for a query - used for testing purposes\n",
        "        \"\"\"\n",
        "\n",
        "        query_bundle = QueryBundle(query)\n",
        "        return self._retrieve(query_bundle)\n",
        "    \n",
        "class EmbeddingBM25RerankerRetriever(BaseRetriever):\n",
        "    \"\"\"Custom retriever that uses both embedding and bm25 retrievers, and reranks the results\"\"\"\n",
        "\n",
        "    def __init__(\n",
        "        self,\n",
        "        vector_retriever: VectorIndexRetriever,\n",
        "        bm25_retriever: BM25Retriever,\n",
        "        reranker=None,\n",
        "        debug:bool=False,\n",
        "    ) -> None:\n",
        "        \"\"\"Init params.\"\"\"\n",
        "\n",
        "        self._vector_retriever = vector_retriever\n",
        "        self.bm25_retriever = bm25_retriever\n",
        "        self.reranker = reranker\n",
        "\n",
        "        self.debug = debug\n",
        "\n",
        "        super().__init__()\n",
        "\n",
        "    def _retrieve(self, query_bundle: QueryBundle) -> List[NodeWithScore]:\n",
        "        \"\"\"Retrieve nodes given query.\"\"\"\n",
        "\n",
        "        vector_nodes = self._vector_retriever.retrieve(query_bundle)\n",
        "        bm25_nodes = self.bm25_retriever.retrieve(query_bundle)\n",
        "\n",
        "        vector_nodes.extend(bm25_nodes)\n",
        "\n",
        "        retrieved_nodes = self.reranker.postprocess_nodes(\n",
        "            vector_nodes, query_bundle\n",
        "        )\n",
        "\n",
        "        return retrieved_nodes\n",
        "\n",
        "        # return vector_nodes\n",
        "    \n",
        "    def retrieve_results_for_query(self, query:str):\n",
        "        \"\"\"\n",
        "        Retrieve results for a query - used for testing purposes\n",
        "        \"\"\"\n",
        "\n",
        "        query_bundle = QueryBundle(query)\n",
        "        return self._retrieve(query_bundle)"
      ]
    },
    {
      "cell_type": "markdown",
      "metadata": {
        "id": "HVWuU_PoPBnh"
      },
      "source": [
        "## Create Nodes"
      ]
    },
    {
      "cell_type": "code",
      "execution_count": 11,
      "metadata": {
        "id": "0pQrJDKvPBnh"
      },
      "outputs": [
        {
          "data": {
            "application/vnd.jupyter.widget-view+json": {
              "model_id": "306e5872ab7a4e51995ebb0bfcbb1d76",
              "version_major": 2,
              "version_minor": 0
            },
            "text/plain": [
              "Parsing nodes:   0%|          | 0/1 [00:00<?, ?it/s]"
            ]
          },
          "metadata": {},
          "output_type": "display_data"
        }
      ],
      "source": [
        "from llama_index.core.node_parser import SentenceSplitter\n",
        "\n",
        "#keep playing with different embedding models and chunk sizes to see what works best\n",
        "\n",
        "node_parser = SentenceSplitter(chunk_size=1024, chunk_overlap=200)\n",
        "# node_parser = SentenceSplitter(chunk_size=400, chunk_overlap=80)\n",
        "\n",
        "nodes = node_parser.get_nodes_from_documents(documents, show_progress=True)"
      ]
    },
    {
      "cell_type": "markdown",
      "metadata": {
        "id": "nF1IdHRQPBnh"
      },
      "source": [
        "## Set node ids\n",
        "\n",
        "Useful to have consistent result comparison for nodes with and without contextual text."
      ]
    },
    {
      "cell_type": "code",
      "execution_count": 12,
      "metadata": {
        "id": "2LAJ6GAPPBnh"
      },
      "outputs": [],
      "source": [
        "# set node ids\n",
        "\n",
        "nodes = set_node_ids(nodes)"
      ]
    },
    {
      "cell_type": "code",
      "execution_count": 13,
      "metadata": {
        "id": "H4Yf-nRUPBnh",
        "outputId": "1b1383c6-6ed3-44c5-a0ad-c0a239594688"
      },
      "outputs": [
        {
          "data": {
            "text/plain": [
              "{'file_path': 'Datasets/chicken_data/v2t_SpeakerResponse_cleaned.xlsx',\n",
              " 'file_name': 'v2t_SpeakerResponse_cleaned.xlsx',\n",
              " 'file_type': 'application/vnd.openxmlformats-officedocument.spreadsheetml.sheet',\n",
              " 'file_size': 37698,\n",
              " 'creation_date': '2024-10-27',\n",
              " 'last_modified_date': '2024-10-27'}"
            ]
          },
          "execution_count": 13,
          "metadata": {},
          "output_type": "execute_result"
        }
      ],
      "source": [
        "nodes[0].metadata"
      ]
    },
    {
      "cell_type": "code",
      "execution_count": 14,
      "metadata": {},
      "outputs": [
        {
          "name": "stdout",
          "output_type": "stream",
          "text": [
            "split data into 23 nodes\n"
          ]
        }
      ],
      "source": [
        "print(f\"split data into {len(nodes)} nodes\")"
      ]
    },
    {
      "cell_type": "markdown",
      "metadata": {
        "id": "hgGQluXLPBnh"
      },
      "source": [
        "## Create contextual nodes -- anthropic's \"contextual retrieval\" approach"
      ]
    },
    {
      "cell_type": "code",
      "execution_count": 15,
      "metadata": {
        "id": "R2TR4cW3PBnh"
      },
      "outputs": [
        {
          "name": "stderr",
          "output_type": "stream",
          "text": [
            "  0%|          | 0/1 [00:00<?, ?it/s]"
          ]
        },
        {
          "name": "stdout",
          "output_type": "stream",
          "text": [
            "0 requests out of 23 requests either timed out or returned non-parseable outputs ...\n"
          ]
        },
        {
          "name": "stderr",
          "output_type": "stream",
          "text": [
            "100%|██████████| 1/1 [00:06<00:00,  6.80s/it]\n"
          ]
        }
      ],
      "source": [
        "# nodes_contextual = create_contextual_nodes(nodes)\n",
        "nodes_contextual = create_contextual_nodes(nodes, fuse_context=True)"
      ]
    },
    {
      "cell_type": "code",
      "execution_count": 17,
      "metadata": {
        "id": "MEnX1GOPPBnh",
        "outputId": "ad45b219-6231-4386-c635-cd4dcb259896"
      },
      "outputs": [
        {
          "data": {
            "text/plain": [
              "({'file_path': 'Datasets/chicken_data/v2t_SpeakerResponse_cleaned.xlsx',\n",
              "  'file_name': 'v2t_SpeakerResponse_cleaned.xlsx',\n",
              "  'file_type': 'application/vnd.openxmlformats-officedocument.spreadsheetml.sheet',\n",
              "  'file_size': 37698,\n",
              "  'creation_date': '2024-10-27',\n",
              "  'last_modified_date': '2024-10-27'},\n",
              " {'file_path': 'Datasets/chicken_data/v2t_SpeakerResponse_cleaned.xlsx',\n",
              "  'file_name': 'v2t_SpeakerResponse_cleaned.xlsx',\n",
              "  'file_type': 'application/vnd.openxmlformats-officedocument.spreadsheetml.sheet',\n",
              "  'file_size': 37698,\n",
              "  'creation_date': '2024-10-27',\n",
              "  'last_modified_date': '2024-10-27',\n",
              "  'context': 'Context: This chunk is the beginning of the interview, where the interviewers introduce themselves and their company, Clear Strategy, and explain the purpose of the interview, which is to gather customer feedback on fast food. They also assure the interviewee that their information will be kept confidential and anonymous. \\n\\nKeywords: marketing research, Clear Strategy, customer feedback, fast food, confidential, anonymous, interview, introduction \\n'})"
            ]
          },
          "execution_count": 17,
          "metadata": {},
          "output_type": "execute_result"
        }
      ],
      "source": [
        "nodes[0].metadata, nodes_contextual[0].metadata"
      ]
    },
    {
      "cell_type": "markdown",
      "metadata": {
        "id": "1ryTJzxoPBnh"
      },
      "source": [
        "<!-- ## Set `CohereReranker` -->\n",
        "## Set `ColbertReranker`\n",
        "\n",
        "- set limits for number of documents to retrieve/similarity of documents etc."
      ]
    },
    {
      "cell_type": "code",
      "execution_count": 18,
      "metadata": {},
      "outputs": [],
      "source": [
        "similarity_top_k = 4 #number of matching nodes. PROTIP : increase this IF the chunk size is small. Decrease if the chunk size is large\n",
        "similarity_top_k_after_reranking = 4 #number of matching nodes after reranking. PROTIP : increase this IF the chunk size is small. Decrease if the chunk size is large\n",
        "similarity_cutoff = 0.4 #minimum similarity score for a node to be considered relevant"
      ]
    },
    {
      "cell_type": "code",
      "execution_count": 19,
      "metadata": {
        "id": "A4iDxFZNPBnh"
      },
      "outputs": [],
      "source": [
        "from llama_index.postprocessor.colbert_rerank import ColbertRerank\n",
        "\n",
        "colbert_reranker = ColbertRerank(\n",
        "    top_n=similarity_top_k_after_reranking,\n",
        "    model=\"colbert-ir/colbertv2.0\",\n",
        "    tokenizer=\"colbert-ir/colbertv2.0\",\n",
        "    keep_retrieval_score=True,\n",
        ")"
      ]
    },
    {
      "cell_type": "markdown",
      "metadata": {
        "id": "Mm_iScxJPBnh"
      },
      "source": [
        "## Create retrievers.\n",
        "\n",
        "1. Embedding based retriever.\n",
        "2. BM25 based retriever.\n",
        "3. Embedding + BM25 + Colbert reranker retriever."
      ]
    },
    {
      "cell_type": "markdown",
      "metadata": {
        "id": "ZzdMeR43PBni"
      },
      "source": [
        "## Create retrievers using contextual nodes."
      ]
    },
    {
      "cell_type": "code",
      "execution_count": 20,
      "metadata": {
        "id": "Nv9RmNk0PBni",
        "outputId": "2e568eec-4b4f-43a6-c16c-71a1b036fad3"
      },
      "outputs": [],
      "source": [
        "contextual_embedding_retriever = create_embedding_retriever(\n",
        "    nodes_contextual, similarity_top_k=similarity_top_k\n",
        ")\n",
        "contextual_bm25_retriever = create_bm25_retriever(\n",
        "    nodes_contextual, similarity_top_k=similarity_top_k\n",
        ")\n",
        "\n",
        "#make them all class objects for retrieval testing\n",
        "\n",
        "contextual_embedding_bm25_retriever_rerank = EmbeddingBM25RerankerRetriever(\n",
        "    contextual_embedding_retriever,\n",
        "    contextual_bm25_retriever,\n",
        "    reranker=colbert_reranker,\n",
        ")\n",
        "contextual_embedding_retriever = EmbeddingRetriever(\n",
        "    contextual_embedding_retriever, similarity_cutoff=similarity_cutoff\n",
        ")\n",
        "contextual_embedding_bm25_retriever = EmbeddingBM25Retriever(\n",
        "    contextual_embedding_retriever, contextual_bm25_retriever, similarity_cutoff=similarity_cutoff\n",
        ")"
      ]
    },
    {
      "cell_type": "markdown",
      "metadata": {},
      "source": [
        "## Define simple functions to retrieve relevant results from queries"
      ]
    },
    {
      "cell_type": "code",
      "execution_count": 21,
      "metadata": {},
      "outputs": [],
      "source": [
        "def get_relevant_chunks(\n",
        "                        query:str,\n",
        "                        retriever=contextual_embedding_bm25_retriever):\n",
        "    \"\"\"\n",
        "    Retrieve relevant chunks for a query\n",
        "\n",
        "    Args:\n",
        "        - query : str : query string\n",
        "        - retriever : BaseRetriever : retriever object to use for retrieval. Defaults to contextual_embedding_bm25_retriever, which uses both embedding and bm25 retrievers\n",
        "\n",
        "    Returns:\n",
        "        - List[NodeWithScore] : list of relevant nodes with scores\n",
        "    \"\"\"\n",
        "    \n",
        "    return retriever.retrieve_results_for_query(query)"
      ]
    },
    {
      "cell_type": "code",
      "execution_count": 22,
      "metadata": {},
      "outputs": [],
      "source": [
        "def answer_query(relevant_chunks, query, llm, use_context:bool=False):\n",
        "    \"\"\"Function to answer a query given relevant chunks\n",
        "    \n",
        "    Args:\n",
        "        - relevant_chunks : List[NodeWithScore] : list of relevant nodes with scores\n",
        "        - query : str : query string\n",
        "        - llm : AsyncLLMPipelineBuilder : llm object to use for answering the query\n",
        "        - use_context : bool : whether to use context for the text excerpts. Defaults to False\n",
        "\n",
        "    Returns:\n",
        "        - str : formatted chunks to be sent to the LLM. This is a string with all the relevant chunks formatted as per the LLM prompt\n",
        "        - str : response from the LLM\n",
        "    \"\"\"\n",
        "\n",
        "    context = None\n",
        "    if use_context:\n",
        "        try:\n",
        "            context = relevant_chunks[-1].metadata['context']\n",
        "\n",
        "            #TODO : add a ReAct prompt or a chain-of-thought prompt to basically make it [look at context/keywords of a chunk -> decide if it wants to use this to answer the query -> answer the query]\n",
        "            \n",
        "        except Exception as e:\n",
        "            print(e)\n",
        "            pass\n",
        "\n",
        "    # Create a list of messages to send to the LLM\n",
        "    answering_prompt = \"\"\"\n",
        "                        Answer the query : `{query}` using any of the relevant pieces of texts below:\n",
        "                        \n",
        "                        {CHUNKS}\n",
        "\n",
        "                        Your answer should be precise and relevant to the query. Note that the text excerpts are provided to help you answer the question, but may contain a lot of irrelevant information. Use only the necessary information to answer the query appropriately.\n",
        "                        \"\"\"\n",
        "    \n",
        "    #send all chunks as a single string to be answered\n",
        "    CHUNKS = [chunk.text for chunk in relevant_chunks]\n",
        "    CHUNKS = list(set(CHUNKS))\n",
        "    CHUNKS = \"\\n\".join(CHUNKS)\n",
        "    \n",
        "    if context is not None:\n",
        "        CHUNKS = [f\"use this context for the text excerpt : {chunk.metadata['context']}\\ntext excerpt : {chunk.text}\\n\"\n",
        "                  for chunk in relevant_chunks]\n",
        "        CHUNKS = list(set(CHUNKS))\n",
        "        CHUNKS = \"\\n\".join(CHUNKS)\n",
        "    \n",
        "    user_prompts = [answering_prompt.format(query=query, CHUNKS=CHUNKS)]\n",
        "\n",
        "    # Send the messages to the LLM\n",
        "    response = llm.batch_predict(user_prompts)[-1]\n",
        "\n",
        "    return CHUNKS, response\n",
        "\n",
        "def retrieve_relevant_chunks_and_answer_query(query:str,\n",
        "                                              llm,\n",
        "                                              retriever=contextual_embedding_bm25_retriever,\n",
        "                                              answer_with_context:bool=False):\n",
        "    \"\"\"\n",
        "    Retrieve relevant chunks and answer a query\n",
        "\n",
        "    Args:\n",
        "        - query : str : query string\n",
        "        - llm : AsyncLLMPipelineBuilder : llm object to use for answering the query\n",
        "        - retriever : BaseRetriever : retriever object to use for retrieval. Defaults to contextual_embedding_bm25_retriever, which uses both embedding and bm25 retrievers\n",
        "        - answer_with_context : bool : whether to use context for the text excerpts. Defaults to False\n",
        "\n",
        "    Returns:\n",
        "        - dict : dictionary with the query, documents retrieved, chunks formatted for answering, and llm response\n",
        "    \"\"\"\n",
        "\n",
        "    relevant_chunks = get_relevant_chunks(query, retriever)\n",
        "    CHUNKS_USED_FOR_LLM_QUERY, response = answer_query(relevant_chunks, query, llm, use_context=answer_with_context)\n",
        "\n",
        "    return {\"query\" : query,\n",
        "            \"documents retrieved\" : relevant_chunks,\n",
        "            \"chunks formatted for answering\" : CHUNKS_USED_FOR_LLM_QUERY,\n",
        "            \"llm_response\" : response}"
      ]
    },
    {
      "cell_type": "code",
      "execution_count": 24,
      "metadata": {},
      "outputs": [
        {
          "data": {
            "text/plain": [
              "[NodeWithScore(node=TextNode(id_='node_4', embedding=None, metadata={'file_path': 'Datasets/chicken_data/v2t_SpeakerResponse_cleaned.xlsx', 'file_name': 'v2t_SpeakerResponse_cleaned.xlsx', 'file_type': 'application/vnd.openxmlformats-officedocument.spreadsheetml.sheet', 'file_size': 37698, 'creation_date': '2024-10-27', 'last_modified_date': '2024-10-27', 'context': \"Context: This chunk is a continuation of the discussion about the participant's preference for KFC chicken over McDonald's chicken. The participant explains that KFC chicken is more of a main dish for them, while McDonald's chicken is more of a side dish. The conversation then transitions to the participant's experience with the McCrispy chicken, which they have tried recently. \\n\\nKeywords: KFC, McDonald's, chicken, McCrispy, preference, main dish, side dish, taste, fragrance, spicy, marination, batter \\n\"}, excluded_embed_metadata_keys=['file_name', 'file_type', 'file_size', 'creation_date', 'last_modified_date', 'last_accessed_date'], excluded_llm_metadata_keys=['file_name', 'file_type', 'file_size', 'creation_date', 'last_modified_date', 'last_accessed_date'], relationships={<NodeRelationship.SOURCE: '1'>: RelatedNodeInfo(node_id='ac5cac7f-c5fe-4bbe-b364-e944ea5ac181', node_type=<ObjectType.DOCUMENT: '4'>, metadata={'file_path': 'Datasets/chicken_data/v2t_SpeakerResponse_cleaned.xlsx', 'file_name': 'v2t_SpeakerResponse_cleaned.xlsx', 'file_type': 'application/vnd.openxmlformats-officedocument.spreadsheetml.sheet', 'file_size': 37698, 'creation_date': '2024-10-27', 'last_modified_date': '2024-10-27'}, hash='49b0f8d7e808a3295e2b19347641c7b02aad7da69de39aee476743fe11637308'), <NodeRelationship.PREVIOUS: '2'>: RelatedNodeInfo(node_id='cf8b4601-29e3-4c14-a602-bc58f270c6f0', node_type=<ObjectType.TEXT: '1'>, metadata={'file_path': 'Datasets/chicken_data/v2t_SpeakerResponse_cleaned.xlsx', 'file_name': 'v2t_SpeakerResponse_cleaned.xlsx', 'file_type': 'application/vnd.openxmlformats-officedocument.spreadsheetml.sheet', 'file_size': 37698, 'creation_date': '2024-10-27', 'last_modified_date': '2024-10-27'}, hash='b11b987ba33b2baf677164b5e7ae33fc613838d3b0d5405a59b476749db6be8c'), <NodeRelationship.NEXT: '3'>: RelatedNodeInfo(node_id='bdff1017-0452-4342-b28b-328abcb76e69', node_type=<ObjectType.TEXT: '1'>, metadata={}, hash='07b5c9d9d52e8178cda78c5000837f596e3c003f81d8362f0a938ccc7f691377')}, text=\"Context: This chunk is a continuation of the discussion about the participant's preference for KFC chicken over McDonald's chicken. The participant explains that KFC chicken is more of a main dish for them, while McDonald's chicken is more of a side dish. The conversation then transitions to the participant's experience with the McCrispy chicken, which they have tried recently. \\n\\nKeywords: KFC, McDonald's, chicken, McCrispy, preference, main dish, side dish, taste, fragrance, spicy, marination, batter \\n\\nThat is quite heavy. 110 Speaker B\\nBut here, why do you say the chicken is more like a side or an add on? 111 Speaker A\\nBecause the focus is always on the burger. Yeah. Because like Mac Krispies is not something that they all along have lately they came up with. 112 Speaker B\\nOkay, so let me ask you to think about when do you feel like eating a burger and come to McDonald's? What's that moment like? Or what's the mood that you're in versus when do you go to KFC to eat chicken? Like, can you take us through the different convenience which is more convenient? Like, both are convenient, right? 113 Speaker A\\nLike on the air. And if it's dining, it's almost in every mall or even in the neighbourhood, you can find a McDonald's. 114 Speaker B\\nI know, I know. But even KFC convenient wouldn't say, oh, it's not. 115 Speaker A\\nIt's not as convenient. 116 Speaker B\\nAlso then if you want to eat chicken, then it's like you have to make an effort to go to KFC. Yeah. 117 Speaker A\\nI think KFC is also not on grab as well, if I'm not wrong. But my frequency of ordering through grab is always. Fast food is McDonald's. 118 Speaker B\\nMcDonald's is your go to fast food. So then tell us, what does it feel like when you're craving chicken? When is it that you actually go to KFC? Make the effort. Find a KFC, go there to eat. 119 Speaker A\\nChicken, make the effort. Dine in. 120 Speaker B\\nWhat? Dine in. Or do you order KFC? 121 Speaker A\\nOkay. Order wise, it's always like a party occasion. More people gathering than we all think of. 122 Speaker B\\nWho's in that party? Is it you, your friends, family, friends gathering. 123 Speaker A\\nSo if it's like potluck, if you order chicken, chicken, KFC is the turn to as well. 124 Speaker B\\nPotluck, it's KFC chicken. 125 Speaker A\\nSorry. 126 Speaker B\\nWhen you do potluck, it's KFC chicken. 127 Speaker A\\nYeah. KFC pizza hut. It's something. Singapore is a little too. 128 Speaker B\\nYeah. Thank you. 129 Speaker A\\nIt's always western. 130 Speaker B\\nYeah. Canadian. Yeah. Yeah. The go to orders. Yeah. Well, now your food is here. Let's open. Can we? You got your chicken? The chicken piece? Yeah. Why don't you open the chicken piece? 131 Speaker A\\nOh, this one? 132 Speaker B\\nYeah. You got the McWanes? Yeah. Maybe we can look at that a bit later. I just wanted to open the chicken. Yeah. Okay. Now that you have the McCrispy here, is this the one that you ordered? 133 Speaker A\\nYes. 134 Speaker B\\nNewer one. Looking at it, how does it look like? How does it feel? What are your thoughts? 135 Speaker A\\nIt looks different, as advertised. 136 Speaker B\\nOkay. 137 Speaker A\\nYeah. Because I had tried it recently before. 138 Speaker B\\nOkay. The smell and everything. How do you find it smells different. 139 Speaker A\\nDifferent? The marination, the battle. 140 Speaker B\\nDifferent from what? 141 Speaker A\\nThe usual one I order is the Mac. The spicy one. 142 Speaker B\\nSpicy one. Okay. Okay. 143 Speaker A\\nSo the spicy one, the taste would taste and smell similar to my spicy. 144 Speaker B\\nAh, the spicy one. The batti. The spicy batti. Got it. Got it. 145 Speaker A\\nSo this one is, I would say, totally different. It's a bit different. 146 Speaker B\\nA bit different. Okay. Now why don't you try. Take a bite. What's the taste like? How does it taste? How are you feeling? 147 Speaker A\\nIt's easy to consume and it's not spicy. And it's the fragrance. 148 Speaker B\\nThere's still some fragrance.\", mimetype='text/plain', start_char_idx=11501, end_char_idx=14937, text_template='{metadata_str}\\n\\n{content}', metadata_template='{key}: {value}', metadata_seperator='\\n'), score=0.6154406710589317),\n",
              " NodeWithScore(node=TextNode(id_='node_3', embedding=None, metadata={'file_path': 'Datasets/chicken_data/v2t_SpeakerResponse_cleaned.xlsx', 'file_name': 'v2t_SpeakerResponse_cleaned.xlsx', 'file_type': 'application/vnd.openxmlformats-officedocument.spreadsheetml.sheet', 'file_size': 37698, 'creation_date': '2024-10-27', 'last_modified_date': '2024-10-27', 'context': \"This chunk is a discussion about the respondent's preference for McDonald's chicken, specifically the McCrispy, and how it compares to KFC chicken. The respondent discusses the different flavors and how they perceive the chicken as a side dish at McDonald's versus a main dish at KFC. \\n\\nKeywords: McCrispy, KFC, McDonald's, chicken, side dish, main dish, flavors, preference, innovative, seasonal, burger, value box, convenience \\n\"}, excluded_embed_metadata_keys=['file_name', 'file_type', 'file_size', 'creation_date', 'last_modified_date', 'last_accessed_date'], excluded_llm_metadata_keys=['file_name', 'file_type', 'file_size', 'creation_date', 'last_modified_date', 'last_accessed_date'], relationships={<NodeRelationship.SOURCE: '1'>: RelatedNodeInfo(node_id='ac5cac7f-c5fe-4bbe-b364-e944ea5ac181', node_type=<ObjectType.DOCUMENT: '4'>, metadata={'file_path': 'Datasets/chicken_data/v2t_SpeakerResponse_cleaned.xlsx', 'file_name': 'v2t_SpeakerResponse_cleaned.xlsx', 'file_type': 'application/vnd.openxmlformats-officedocument.spreadsheetml.sheet', 'file_size': 37698, 'creation_date': '2024-10-27', 'last_modified_date': '2024-10-27'}, hash='49b0f8d7e808a3295e2b19347641c7b02aad7da69de39aee476743fe11637308'), <NodeRelationship.PREVIOUS: '2'>: RelatedNodeInfo(node_id='039aecb8-0e4b-46cc-b555-23d52da4b9da', node_type=<ObjectType.TEXT: '1'>, metadata={'file_path': 'Datasets/chicken_data/v2t_SpeakerResponse_cleaned.xlsx', 'file_name': 'v2t_SpeakerResponse_cleaned.xlsx', 'file_type': 'application/vnd.openxmlformats-officedocument.spreadsheetml.sheet', 'file_size': 37698, 'creation_date': '2024-10-27', 'last_modified_date': '2024-10-27'}, hash='5d2fb03bdb3d00c064deda9c45db8b03d136d648a8f7cfe0f8528dee255f30e7'), <NodeRelationship.NEXT: '3'>: RelatedNodeInfo(node_id='ec64d120-1e29-412c-aa1a-228337e26f49', node_type=<ObjectType.TEXT: '1'>, metadata={}, hash='ace2c946f67b6a2c900555c828cc536bc5c6c8f8306ba24e51ea06cc02471d38')}, text=\"This chunk is a discussion about the respondent's preference for McDonald's chicken, specifically the McCrispy, and how it compares to KFC chicken. The respondent discusses the different flavors and how they perceive the chicken as a side dish at McDonald's versus a main dish at KFC. \\n\\nKeywords: McCrispy, KFC, McDonald's, chicken, side dish, main dish, flavors, preference, innovative, seasonal, burger, value box, convenience \\n\\nOkay. So what do you like about the chicken at McDonald's else? 77 Speaker A\\nChicken? I think they are getting more innovative a bit. Yeah. Because they don't start off with chicken. 78 Speaker B\\nThey start out with bubble. 79 Speaker C\\nYeah. Chicken. My usual turn to is always KFC. 80 Speaker B\\nOh, okay. 81 Speaker A\\nYeah. So. But I realized they are getting more creative and innovative with their chicken. Like the different flavor. 82 Speaker B\\nWhat do you notice that it's not. 83 Speaker A\\nJust, it's not just spicy and unspicy. Really go with different flavors. 84 Speaker B\\nThey're trying out, like some examples. What are the flavors? 85 Speaker A\\nI can't remember. Like sometimes they lunch with the burger itself. So let's say the korean one, then the sweet and sour whatsoever. So they will couple it with the chicken as well. So when it's new, try once consistently because it's seasonal. So they will be up there and they will take it out. 86 Speaker B\\nOkay. There's more seasonal chicken burgers. Some of them. 87 Speaker A\\nChicken. Chicken. 88 Speaker B\\nYeah, chicken. 89 Speaker A\\nBut the chicken, the burger is always there. 90 Speaker B\\nOkay. Okay, so the seasonal chicken, which one have you tried sweetened? The korean one you mentioned. Is that the McCrispy? 91 Speaker A\\nYeah, it's always the McCrispy that they try. 92 Speaker B\\nWhen did you first try it? I couldn't remember long back or like recent times? 93 Speaker A\\nRecent months. 94 Speaker B\\nRecent times. Okay, so what made you kind of try the McCrispy? 95 Speaker A\\nSorry? 96 Speaker B\\nWhat made you try the McCrispy? Because tumors. 97 Speaker A\\nYeah, it's always on. Yeah, we watch tv quite a bit, so it's always on Evans. 98 Speaker B\\nBut you're also a KFC fan, right? You mentioned it, yeah. So how does the chicken in McDonald's compare with all the chicken in KFC? 99 Speaker A\\nIf I consume the chicken here, it's always coupled with the burger, like a side dish. But if I go to KFC, it's going to be a main dish or chicken. Yeah. It's a different agenda. 100 Speaker B\\nOkay. So then when you order them, it's spicy here. What's your typical order? Is it like how you ordered today? 101 Speaker A\\nYeah. 102 Speaker B\\nAs a meal? 103 Speaker A\\nYeah, as a meal. Chisel drink? Yeah, usually size surprise. Usually if I'm dining with my girlfriend, then we can share the meal. Then she will just order Alakka. 104 Speaker B\\nBut you mentioned that chicken here is more like a side, but a KFC, it's the main thing you eat. 105 Speaker A\\nYeah. Yeah. 106 Speaker B\\nSo then what do you eat is the main thing for lunch at KFC. 107 Speaker A\\nSo eat two piece meat. 108 Speaker B\\nTwo piece. The same chicken. 109 Speaker A\\nYeah. I used to eat, they have this value box. So it's like a single burger and a piece of chicken. That's quite value. That is quite heavy. 110 Speaker B\\nBut here, why do you say the chicken is more like a side or an add on? 111 Speaker A\\nBecause the focus is always on the burger. Yeah. Because like Mac Krispies is not something that they all along have lately they came up with. 112 Speaker B\\nOkay, so let me ask you to think about when do you feel like eating a burger and come to McDonald's? What's that moment like? Or what's the mood that you're in versus when do you go to KFC to eat chicken? Like, can you take us through the different convenience which is more convenient? Like, both are convenient, right? 113 Speaker A\\nLike on the air. And if it's dining, it's almost in every mall or even in the neighbourhood, you can find a McDonald's. 114 Speaker B\\nI know, I know.\", mimetype='text/plain', start_char_idx=8680, end_char_idx=12262, text_template='{metadata_str}\\n\\n{content}', metadata_template='{key}: {value}', metadata_seperator='\\n'), score=0.6104940029949228),\n",
              " NodeWithScore(node=TextNode(id_='node_9', embedding=None, metadata={'file_path': 'Datasets/chicken_data/v2t_SpeakerResponse_cleaned.xlsx', 'file_name': 'v2t_SpeakerResponse_cleaned.xlsx', 'file_type': 'application/vnd.openxmlformats-officedocument.spreadsheetml.sheet', 'file_size': 37698, 'creation_date': '2024-10-27', 'last_modified_date': '2024-10-27', 'context': \"This chunk is a discussion about the consumer's preference for whole meat versus minced meat in chicken products, specifically in relation to the McCrispy chicken. The discussion then moves on to explore the potential for the McCrispy batter and marinade to be used on other chicken products, such as tenders and McChicken. \\n\\nKeywords: McCrispy, whole meat, minced meat, tenders, McChicken, batter, marinade, chicken products \\n\"}, excluded_embed_metadata_keys=['file_name', 'file_type', 'file_size', 'creation_date', 'last_modified_date', 'last_accessed_date'], excluded_llm_metadata_keys=['file_name', 'file_type', 'file_size', 'creation_date', 'last_modified_date', 'last_accessed_date'], relationships={<NodeRelationship.SOURCE: '1'>: RelatedNodeInfo(node_id='ac5cac7f-c5fe-4bbe-b364-e944ea5ac181', node_type=<ObjectType.DOCUMENT: '4'>, metadata={'file_path': 'Datasets/chicken_data/v2t_SpeakerResponse_cleaned.xlsx', 'file_name': 'v2t_SpeakerResponse_cleaned.xlsx', 'file_type': 'application/vnd.openxmlformats-officedocument.spreadsheetml.sheet', 'file_size': 37698, 'creation_date': '2024-10-27', 'last_modified_date': '2024-10-27'}, hash='49b0f8d7e808a3295e2b19347641c7b02aad7da69de39aee476743fe11637308'), <NodeRelationship.PREVIOUS: '2'>: RelatedNodeInfo(node_id='075c4a72-b25b-48d9-aad6-8f0a81020017', node_type=<ObjectType.TEXT: '1'>, metadata={'file_path': 'Datasets/chicken_data/v2t_SpeakerResponse_cleaned.xlsx', 'file_name': 'v2t_SpeakerResponse_cleaned.xlsx', 'file_type': 'application/vnd.openxmlformats-officedocument.spreadsheetml.sheet', 'file_size': 37698, 'creation_date': '2024-10-27', 'last_modified_date': '2024-10-27'}, hash='278a07ae8fef32dc69d860feb0ab05f259c69b186412e958a3352295a71f0763'), <NodeRelationship.NEXT: '3'>: RelatedNodeInfo(node_id='314a8b9d-d77d-4bcb-b592-c3e53d9464e2', node_type=<ObjectType.TEXT: '1'>, metadata={}, hash='9db84111628322c30376b523a928cab678d7df4a2a92e8578a97f40dc3c0bf63')}, text=\"This chunk is a discussion about the consumer's preference for whole meat versus minced meat in chicken products, specifically in relation to the McCrispy chicken. The discussion then moves on to explore the potential for the McCrispy batter and marinade to be used on other chicken products, such as tenders and McChicken. \\n\\nKeywords: McCrispy, whole meat, minced meat, tenders, McChicken, batter, marinade, chicken products \\n\\nSo what does it convey to you? 247 Speaker A\\nDoes it convey. 248 Speaker B\\nYeah. Versus minced meat versus markets. 249 Speaker A\\nWhy this. 250 Speaker B\\nYeah, why do you like it more filling. Any other things you associate with the whole meat? 251 Speaker A\\nMore time to savour the taste. 252 Speaker B\\nMore time to savor the taste compared. 253 Speaker A\\nTo just like a McNuggets, like a mincemeat. One mouth. For me, I'm quite a big mouth, so one mouth. I can't really have time to savor the taste. So I like, you know, the whole point of eating is to have the second bite, the subsequent bite. Yeah. 254 Speaker B\\nSo you can enjoy longer. So then when would you eat McCrispy chicken? Would it be when you are having a leisurely meal, you want to come relax and spend half an hour enjoying a meal? Or would it be like, okay, in and out quick? I'm busy after to get many things done, I just quickly get my crispy and eat it. So what's the scenario like? 255 Speaker A\\nMy crispy would not be in and out quick because when it comes piping hot, you can't eat past as well. Yeah, you need tiger cinnamon too. 256 Speaker B\\nSo what's the typical McCrispy meal time? Like half an hour at the minimum or. Yeah, half an hour versus a McSpicy burger. When you come to eat McSpicy, do you come with the intention of, okay, 30 minutes? I'm not gonna, you know, do anything else. Just eat. Or is it like, quick, quick, quick? 257 Speaker A\\nSame as six takes time. It's not like if I'm prepping ankle from McDonald's will be just like a simple McChicken fillet in combo down, easy to consume. So this will take time? 258 Speaker B\\nYeah, go ahead, please try whatever you like. To eat. So if this McCrispy were to become, like, a tender, or maybe could it become like a McQueen? Could the McCrispy batter marinade work for McQueen? 259 Speaker A\\nIt could be, but it definitely will not taste the same. 260 Speaker B\\nWould it replace the current McQueen, or would there be room for, like, two types of mcQueens? Crispy McQueen and original McQueen? 261 Speaker A\\nI don't think it will replace. I think it's good to have more options. 262 Speaker B\\nSo crispy mcWings and original mcwings. Okay. What else could it become? You mentioned this patty. So would the patty work well in a, like, have you tried the other products, like the wrap, the grilled chicken wrap? 263 Speaker A\\nBig Lee? I did eat before, but it's very. 264 Speaker B\\nBig. 265 Speaker C\\nMemory of it. 266 Speaker B\\nGood grilled chicken. Bee McCaspy, maybe. 267 Speaker A\\nBut this is meaning fried. 268 Speaker B\\nSo McCrispy needs to be fried to be crispy. To be McCrispy. Otherwise not genuine. Yeah. Actually that's very helpful for us to know. Like, like, when, when is it. When is it going to be genuine? Genuinely like my crispy? What can change and what cannot change? Can the meat change? Like you said, it's okay to use breast meat. 269 Speaker A\\nYeah, but I think most fast food, I usually drop it. 270 Speaker B\\nOkay. But minced meat. No, it has to be like whole meat. 271 Speaker A\\nYeah. 272 Speaker B\\nYeah, yeah, yeah. Okay. And fried. Not going home. 273 Speaker A\\nYes. 274 Speaker B\\nOkay. So what about the meat itself? Can it be any other meat than chicken? Canned fish, pork. 275 Speaker A\\nFish. 276 Speaker B\\nStrange. 277 Speaker A\\nI never really seen them exploring their filet o fish. 278 Speaker B\\nYeah, but we can be creative. Do you think that, do you think that the crispy could go to other types of meat or should it only be chicken?\", mimetype='text/plain', start_char_idx=25509, end_char_idx=29018, text_template='{metadata_str}\\n\\n{content}', metadata_template='{key}: {value}', metadata_seperator='\\n'), score=0.6036732860735541),\n",
              " NodeWithScore(node=TextNode(id_='node_12', embedding=None, metadata={'file_path': 'Datasets/chicken_data/v2t_SpeakerResponse_cleaned.xlsx', 'file_name': 'v2t_SpeakerResponse_cleaned.xlsx', 'file_type': 'application/vnd.openxmlformats-officedocument.spreadsheetml.sheet', 'file_size': 37698, 'creation_date': '2024-10-27', 'last_modified_date': '2024-10-27', 'context': \"This chunk is a discussion about the potential for McCrispy chicken to be incorporated into other McDonald's menu items, specifically tenders and breakfast options. \\n\\nKeywords: McCrispy, tenders, breakfast, McMuffin, chicken, McDonald's, menu,  \\n\"}, excluded_embed_metadata_keys=['file_name', 'file_type', 'file_size', 'creation_date', 'last_modified_date', 'last_accessed_date'], excluded_llm_metadata_keys=['file_name', 'file_type', 'file_size', 'creation_date', 'last_modified_date', 'last_accessed_date'], relationships={<NodeRelationship.SOURCE: '1'>: RelatedNodeInfo(node_id='ac5cac7f-c5fe-4bbe-b364-e944ea5ac181', node_type=<ObjectType.DOCUMENT: '4'>, metadata={'file_path': 'Datasets/chicken_data/v2t_SpeakerResponse_cleaned.xlsx', 'file_name': 'v2t_SpeakerResponse_cleaned.xlsx', 'file_type': 'application/vnd.openxmlformats-officedocument.spreadsheetml.sheet', 'file_size': 37698, 'creation_date': '2024-10-27', 'last_modified_date': '2024-10-27'}, hash='49b0f8d7e808a3295e2b19347641c7b02aad7da69de39aee476743fe11637308'), <NodeRelationship.PREVIOUS: '2'>: RelatedNodeInfo(node_id='d031e96d-2d80-45b4-8ad5-17acbe95f461', node_type=<ObjectType.TEXT: '1'>, metadata={'file_path': 'Datasets/chicken_data/v2t_SpeakerResponse_cleaned.xlsx', 'file_name': 'v2t_SpeakerResponse_cleaned.xlsx', 'file_type': 'application/vnd.openxmlformats-officedocument.spreadsheetml.sheet', 'file_size': 37698, 'creation_date': '2024-10-27', 'last_modified_date': '2024-10-27'}, hash='036e1a53bb4682a3f1cfa739f327ce48fb6bfbc4b9f118597e69ebda05ba7ee1'), <NodeRelationship.NEXT: '3'>: RelatedNodeInfo(node_id='3f76bf2a-a098-44aa-961b-281bbc6495e8', node_type=<ObjectType.TEXT: '1'>, metadata={}, hash='98e153d4ea0af1c403c234c58c00b172e4ed5487ab5935be66c756ccfe7fc89b')}, text=\"This chunk is a discussion about the potential for McCrispy chicken to be incorporated into other McDonald's menu items, specifically tenders and breakfast options. \\n\\nKeywords: McCrispy, tenders, breakfast, McMuffin, chicken, McDonald's, menu,  \\n\\n325 Speaker A\\nI think they tried. 326 Speaker B\\nThey tried. Have you tried the honey soy? 327 Speaker A\\nYeah, yeah. A bit heavy. 328 Speaker B\\nLike a bit heavy. 329 Speaker A\\nThis is just nice. 330 Speaker B\\nJust nice. Okay. 331 Speaker A\\nLike maybe like the one, the honey one that you mentioned. I eat one piece, then I won't go for another piece. This, I might go for another one. 332 Speaker B\\nI understand. I know the feeling. Yeah. Okay. Speaking of tenders, have you tried the tenders at KFC? Yeah, no, I'm just looking at the time because I know that we also tenders. You don't. So what would make a really good tender, like, what are the qualities described? 333 Speaker A\\nJuicy. Juicy, tender. 334 Speaker B\\nTender. But is there a preference? Like should it thigh meat, press meat, lean meat more? What's like the taste and the feeling of eating high meat versus breast meat? Easier to eat as well. 335 Speaker A\\nEasily dry. 336 Speaker B\\nEasily dry. 337 Speaker A\\nSo it might not savor the somehow time it does. Look at it. It's like we see unhealthy earlier. 338 Speaker B\\nYeah, but does it bother, I mean, does it actually bother people? Everybody says that it's greasy, unhealthy, etcetera, etcetera. But to what extent does it actually think about this? Is this something that you think about? 339 Speaker A\\nThat's why I minimize the frequency of eating it. You can wait on a Monday basis. 340 Speaker B\\nOkay. Okay. Okay. So the tenders. We talked about putting that in the party box along with nutties. So, like, how many tenders would be, like, nice as a snack and how many would like, can it be a meal? What would be, like, the roll of tenders on the menu? Would it be like a side. Would it be like. 341 Speaker A\\nIt could be like a nuggets. Like, the numbers are usually 4646 nuggets. Big one is 20. 342 Speaker B\\nSo four would be a small order. A side order add on. 343 Speaker A\\nNumber would be good. 344 Speaker B\\nWhat actually suggests the, you know, the product better, the word tenders or the word strips? Chicken strips or the word bites? Because some people said that tender is a very specific big fillet of the chicken breast. That's what some people say. So that's why we ask. Strips. 345 Speaker A\\nIt might be more appealing. Tenders. 346 Speaker B\\nTenders is more appealing. 347 Speaker A\\nYeah, but it would be like, okay, one bite. That's it. 348 Speaker B\\nOh, one bite might suggest. 349 Speaker A\\nBite is like a verb. So people think, like, you want me to bite? The fender is like, oh, it's like a thing that I want to eat. 350 Speaker B\\nOkay. Understand. What about breakfast? Do you get McDonald's breakfast? 351 Speaker A\\nI used to always order their big breakfast inside mall, but nowadays I only order the sausage. 352 Speaker B\\nOkay. And the wraps. You've never tried? 353 Speaker A\\nNot favorable. 354 Speaker B\\nOkay. Would mccrispies sit well in the breakfast menu? Would you order it for breakfast by itself or with the salad? 355 Speaker A\\nI think they tried before. Oh, yeah, they had the. It's like the sausage mummy. They replaced the sausage with the chicken recipe. Yeah, they do have it. This might go right. 356 Speaker B\\nOkay. 357 Speaker A\\nWith the breakfast bun. 358 Speaker B\\nYeah. So, like you said, the patty, the McCrispy, they said could come a patty itself. So would that go well with the muffin? McMuffin? 359 Speaker A\\nYeah, it does. 360 Speaker B\\nSo that could be an option. So I think that's a good match, good mix.\", mimetype='text/plain', start_char_idx=34140, end_char_idx=37618, text_template='{metadata_str}\\n\\n{content}', metadata_template='{key}: {value}', metadata_seperator='\\n'), score=0.5882455038921867),\n",
              " NodeWithScore(node=TextNode(id_='node_3', embedding=None, metadata={'file_path': 'Datasets/chicken_data/v2t_SpeakerResponse_cleaned.xlsx', 'file_name': 'v2t_SpeakerResponse_cleaned.xlsx', 'file_type': 'application/vnd.openxmlformats-officedocument.spreadsheetml.sheet', 'file_size': 37698, 'creation_date': '2024-10-27', 'last_modified_date': '2024-10-27', 'context': \"This chunk is a discussion about the respondent's preference for McDonald's chicken, specifically the McCrispy, and how it compares to KFC chicken. The respondent discusses the different flavors and how they perceive the chicken as a side dish at McDonald's versus a main dish at KFC. \\n\\nKeywords: McCrispy, KFC, McDonald's, chicken, side dish, main dish, flavors, preference, innovative, seasonal, burger, value box, convenience \\n\"}, excluded_embed_metadata_keys=['file_name', 'file_type', 'file_size', 'creation_date', 'last_modified_date', 'last_accessed_date'], excluded_llm_metadata_keys=['file_name', 'file_type', 'file_size', 'creation_date', 'last_modified_date', 'last_accessed_date'], relationships={<NodeRelationship.SOURCE: '1'>: RelatedNodeInfo(node_id='ac5cac7f-c5fe-4bbe-b364-e944ea5ac181', node_type=<ObjectType.DOCUMENT: '4'>, metadata={'file_path': 'Datasets/chicken_data/v2t_SpeakerResponse_cleaned.xlsx', 'file_name': 'v2t_SpeakerResponse_cleaned.xlsx', 'file_type': 'application/vnd.openxmlformats-officedocument.spreadsheetml.sheet', 'file_size': 37698, 'creation_date': '2024-10-27', 'last_modified_date': '2024-10-27'}, hash='49b0f8d7e808a3295e2b19347641c7b02aad7da69de39aee476743fe11637308'), <NodeRelationship.PREVIOUS: '2'>: RelatedNodeInfo(node_id='039aecb8-0e4b-46cc-b555-23d52da4b9da', node_type=<ObjectType.TEXT: '1'>, metadata={'file_path': 'Datasets/chicken_data/v2t_SpeakerResponse_cleaned.xlsx', 'file_name': 'v2t_SpeakerResponse_cleaned.xlsx', 'file_type': 'application/vnd.openxmlformats-officedocument.spreadsheetml.sheet', 'file_size': 37698, 'creation_date': '2024-10-27', 'last_modified_date': '2024-10-27'}, hash='5d2fb03bdb3d00c064deda9c45db8b03d136d648a8f7cfe0f8528dee255f30e7'), <NodeRelationship.NEXT: '3'>: RelatedNodeInfo(node_id='ec64d120-1e29-412c-aa1a-228337e26f49', node_type=<ObjectType.TEXT: '1'>, metadata={}, hash='ace2c946f67b6a2c900555c828cc536bc5c6c8f8306ba24e51ea06cc02471d38')}, text=\"This chunk is a discussion about the respondent's preference for McDonald's chicken, specifically the McCrispy, and how it compares to KFC chicken. The respondent discusses the different flavors and how they perceive the chicken as a side dish at McDonald's versus a main dish at KFC. \\n\\nKeywords: McCrispy, KFC, McDonald's, chicken, side dish, main dish, flavors, preference, innovative, seasonal, burger, value box, convenience \\n\\nOkay. So what do you like about the chicken at McDonald's else? 77 Speaker A\\nChicken? I think they are getting more innovative a bit. Yeah. Because they don't start off with chicken. 78 Speaker B\\nThey start out with bubble. 79 Speaker C\\nYeah. Chicken. My usual turn to is always KFC. 80 Speaker B\\nOh, okay. 81 Speaker A\\nYeah. So. But I realized they are getting more creative and innovative with their chicken. Like the different flavor. 82 Speaker B\\nWhat do you notice that it's not. 83 Speaker A\\nJust, it's not just spicy and unspicy. Really go with different flavors. 84 Speaker B\\nThey're trying out, like some examples. What are the flavors? 85 Speaker A\\nI can't remember. Like sometimes they lunch with the burger itself. So let's say the korean one, then the sweet and sour whatsoever. So they will couple it with the chicken as well. So when it's new, try once consistently because it's seasonal. So they will be up there and they will take it out. 86 Speaker B\\nOkay. There's more seasonal chicken burgers. Some of them. 87 Speaker A\\nChicken. Chicken. 88 Speaker B\\nYeah, chicken. 89 Speaker A\\nBut the chicken, the burger is always there. 90 Speaker B\\nOkay. Okay, so the seasonal chicken, which one have you tried sweetened? The korean one you mentioned. Is that the McCrispy? 91 Speaker A\\nYeah, it's always the McCrispy that they try. 92 Speaker B\\nWhen did you first try it? I couldn't remember long back or like recent times? 93 Speaker A\\nRecent months. 94 Speaker B\\nRecent times. Okay, so what made you kind of try the McCrispy? 95 Speaker A\\nSorry? 96 Speaker B\\nWhat made you try the McCrispy? Because tumors. 97 Speaker A\\nYeah, it's always on. Yeah, we watch tv quite a bit, so it's always on Evans. 98 Speaker B\\nBut you're also a KFC fan, right? You mentioned it, yeah. So how does the chicken in McDonald's compare with all the chicken in KFC? 99 Speaker A\\nIf I consume the chicken here, it's always coupled with the burger, like a side dish. But if I go to KFC, it's going to be a main dish or chicken. Yeah. It's a different agenda. 100 Speaker B\\nOkay. So then when you order them, it's spicy here. What's your typical order? Is it like how you ordered today? 101 Speaker A\\nYeah. 102 Speaker B\\nAs a meal? 103 Speaker A\\nYeah, as a meal. Chisel drink? Yeah, usually size surprise. Usually if I'm dining with my girlfriend, then we can share the meal. Then she will just order Alakka. 104 Speaker B\\nBut you mentioned that chicken here is more like a side, but a KFC, it's the main thing you eat. 105 Speaker A\\nYeah. Yeah. 106 Speaker B\\nSo then what do you eat is the main thing for lunch at KFC. 107 Speaker A\\nSo eat two piece meat. 108 Speaker B\\nTwo piece. The same chicken. 109 Speaker A\\nYeah. I used to eat, they have this value box. So it's like a single burger and a piece of chicken. That's quite value. That is quite heavy. 110 Speaker B\\nBut here, why do you say the chicken is more like a side or an add on? 111 Speaker A\\nBecause the focus is always on the burger. Yeah. Because like Mac Krispies is not something that they all along have lately they came up with. 112 Speaker B\\nOkay, so let me ask you to think about when do you feel like eating a burger and come to McDonald's? What's that moment like? Or what's the mood that you're in versus when do you go to KFC to eat chicken? Like, can you take us through the different convenience which is more convenient? Like, both are convenient, right? 113 Speaker A\\nLike on the air. And if it's dining, it's almost in every mall or even in the neighbourhood, you can find a McDonald's. 114 Speaker B\\nI know, I know.\", mimetype='text/plain', start_char_idx=8680, end_char_idx=12262, text_template='{metadata_str}\\n\\n{content}', metadata_template='{key}: {value}', metadata_seperator='\\n'), score=2.7681171894073486),\n",
              " NodeWithScore(node=TextNode(id_='node_4', embedding=None, metadata={'file_path': 'Datasets/chicken_data/v2t_SpeakerResponse_cleaned.xlsx', 'file_name': 'v2t_SpeakerResponse_cleaned.xlsx', 'file_type': 'application/vnd.openxmlformats-officedocument.spreadsheetml.sheet', 'file_size': 37698, 'creation_date': '2024-10-27', 'last_modified_date': '2024-10-27', 'context': \"Context: This chunk is a continuation of the discussion about the participant's preference for KFC chicken over McDonald's chicken. The participant explains that KFC chicken is more of a main dish for them, while McDonald's chicken is more of a side dish. The conversation then transitions to the participant's experience with the McCrispy chicken, which they have tried recently. \\n\\nKeywords: KFC, McDonald's, chicken, McCrispy, preference, main dish, side dish, taste, fragrance, spicy, marination, batter \\n\"}, excluded_embed_metadata_keys=['file_name', 'file_type', 'file_size', 'creation_date', 'last_modified_date', 'last_accessed_date'], excluded_llm_metadata_keys=['file_name', 'file_type', 'file_size', 'creation_date', 'last_modified_date', 'last_accessed_date'], relationships={<NodeRelationship.SOURCE: '1'>: RelatedNodeInfo(node_id='ac5cac7f-c5fe-4bbe-b364-e944ea5ac181', node_type=<ObjectType.DOCUMENT: '4'>, metadata={'file_path': 'Datasets/chicken_data/v2t_SpeakerResponse_cleaned.xlsx', 'file_name': 'v2t_SpeakerResponse_cleaned.xlsx', 'file_type': 'application/vnd.openxmlformats-officedocument.spreadsheetml.sheet', 'file_size': 37698, 'creation_date': '2024-10-27', 'last_modified_date': '2024-10-27'}, hash='49b0f8d7e808a3295e2b19347641c7b02aad7da69de39aee476743fe11637308'), <NodeRelationship.PREVIOUS: '2'>: RelatedNodeInfo(node_id='cf8b4601-29e3-4c14-a602-bc58f270c6f0', node_type=<ObjectType.TEXT: '1'>, metadata={'file_path': 'Datasets/chicken_data/v2t_SpeakerResponse_cleaned.xlsx', 'file_name': 'v2t_SpeakerResponse_cleaned.xlsx', 'file_type': 'application/vnd.openxmlformats-officedocument.spreadsheetml.sheet', 'file_size': 37698, 'creation_date': '2024-10-27', 'last_modified_date': '2024-10-27'}, hash='b11b987ba33b2baf677164b5e7ae33fc613838d3b0d5405a59b476749db6be8c'), <NodeRelationship.NEXT: '3'>: RelatedNodeInfo(node_id='bdff1017-0452-4342-b28b-328abcb76e69', node_type=<ObjectType.TEXT: '1'>, metadata={}, hash='07b5c9d9d52e8178cda78c5000837f596e3c003f81d8362f0a938ccc7f691377')}, text=\"Context: This chunk is a continuation of the discussion about the participant's preference for KFC chicken over McDonald's chicken. The participant explains that KFC chicken is more of a main dish for them, while McDonald's chicken is more of a side dish. The conversation then transitions to the participant's experience with the McCrispy chicken, which they have tried recently. \\n\\nKeywords: KFC, McDonald's, chicken, McCrispy, preference, main dish, side dish, taste, fragrance, spicy, marination, batter \\n\\nThat is quite heavy. 110 Speaker B\\nBut here, why do you say the chicken is more like a side or an add on? 111 Speaker A\\nBecause the focus is always on the burger. Yeah. Because like Mac Krispies is not something that they all along have lately they came up with. 112 Speaker B\\nOkay, so let me ask you to think about when do you feel like eating a burger and come to McDonald's? What's that moment like? Or what's the mood that you're in versus when do you go to KFC to eat chicken? Like, can you take us through the different convenience which is more convenient? Like, both are convenient, right? 113 Speaker A\\nLike on the air. And if it's dining, it's almost in every mall or even in the neighbourhood, you can find a McDonald's. 114 Speaker B\\nI know, I know. But even KFC convenient wouldn't say, oh, it's not. 115 Speaker A\\nIt's not as convenient. 116 Speaker B\\nAlso then if you want to eat chicken, then it's like you have to make an effort to go to KFC. Yeah. 117 Speaker A\\nI think KFC is also not on grab as well, if I'm not wrong. But my frequency of ordering through grab is always. Fast food is McDonald's. 118 Speaker B\\nMcDonald's is your go to fast food. So then tell us, what does it feel like when you're craving chicken? When is it that you actually go to KFC? Make the effort. Find a KFC, go there to eat. 119 Speaker A\\nChicken, make the effort. Dine in. 120 Speaker B\\nWhat? Dine in. Or do you order KFC? 121 Speaker A\\nOkay. Order wise, it's always like a party occasion. More people gathering than we all think of. 122 Speaker B\\nWho's in that party? Is it you, your friends, family, friends gathering. 123 Speaker A\\nSo if it's like potluck, if you order chicken, chicken, KFC is the turn to as well. 124 Speaker B\\nPotluck, it's KFC chicken. 125 Speaker A\\nSorry. 126 Speaker B\\nWhen you do potluck, it's KFC chicken. 127 Speaker A\\nYeah. KFC pizza hut. It's something. Singapore is a little too. 128 Speaker B\\nYeah. Thank you. 129 Speaker A\\nIt's always western. 130 Speaker B\\nYeah. Canadian. Yeah. Yeah. The go to orders. Yeah. Well, now your food is here. Let's open. Can we? You got your chicken? The chicken piece? Yeah. Why don't you open the chicken piece? 131 Speaker A\\nOh, this one? 132 Speaker B\\nYeah. You got the McWanes? Yeah. Maybe we can look at that a bit later. I just wanted to open the chicken. Yeah. Okay. Now that you have the McCrispy here, is this the one that you ordered? 133 Speaker A\\nYes. 134 Speaker B\\nNewer one. Looking at it, how does it look like? How does it feel? What are your thoughts? 135 Speaker A\\nIt looks different, as advertised. 136 Speaker B\\nOkay. 137 Speaker A\\nYeah. Because I had tried it recently before. 138 Speaker B\\nOkay. The smell and everything. How do you find it smells different. 139 Speaker A\\nDifferent? The marination, the battle. 140 Speaker B\\nDifferent from what? 141 Speaker A\\nThe usual one I order is the Mac. The spicy one. 142 Speaker B\\nSpicy one. Okay. Okay. 143 Speaker A\\nSo the spicy one, the taste would taste and smell similar to my spicy. 144 Speaker B\\nAh, the spicy one. The batti. The spicy batti. Got it. Got it. 145 Speaker A\\nSo this one is, I would say, totally different. It's a bit different. 146 Speaker B\\nA bit different. Okay. Now why don't you try. Take a bite. What's the taste like? How does it taste? How are you feeling? 147 Speaker A\\nIt's easy to consume and it's not spicy. And it's the fragrance. 148 Speaker B\\nThere's still some fragrance.\", mimetype='text/plain', start_char_idx=11501, end_char_idx=14937, text_template='{metadata_str}\\n\\n{content}', metadata_template='{key}: {value}', metadata_seperator='\\n'), score=2.6690399646759033),\n",
              " NodeWithScore(node=TextNode(id_='node_11', embedding=None, metadata={'file_path': 'Datasets/chicken_data/v2t_SpeakerResponse_cleaned.xlsx', 'file_name': 'v2t_SpeakerResponse_cleaned.xlsx', 'file_type': 'application/vnd.openxmlformats-officedocument.spreadsheetml.sheet', 'file_size': 37698, 'creation_date': '2024-10-27', 'last_modified_date': '2024-10-27', 'context': 'This chunk is a discussion about what makes chicken interesting and fun to eat, as opposed to boring. The participant is asked to think about chicken products that they find interesting and enjoyable, and the conversation explores different chicken dishes and styles, including Taiwanese fried chicken cutlets, Korean fried chicken, and the qualities of a good chicken tender. \\n\\nKeywords: chicken, interesting, fun, boring, Taiwanese fried chicken, Korean fried chicken, chicken tender, cutlet,  \\n'}, excluded_embed_metadata_keys=['file_name', 'file_type', 'file_size', 'creation_date', 'last_modified_date', 'last_accessed_date'], excluded_llm_metadata_keys=['file_name', 'file_type', 'file_size', 'creation_date', 'last_modified_date', 'last_accessed_date'], relationships={<NodeRelationship.SOURCE: '1'>: RelatedNodeInfo(node_id='ac5cac7f-c5fe-4bbe-b364-e944ea5ac181', node_type=<ObjectType.DOCUMENT: '4'>, metadata={'file_path': 'Datasets/chicken_data/v2t_SpeakerResponse_cleaned.xlsx', 'file_name': 'v2t_SpeakerResponse_cleaned.xlsx', 'file_type': 'application/vnd.openxmlformats-officedocument.spreadsheetml.sheet', 'file_size': 37698, 'creation_date': '2024-10-27', 'last_modified_date': '2024-10-27'}, hash='49b0f8d7e808a3295e2b19347641c7b02aad7da69de39aee476743fe11637308'), <NodeRelationship.PREVIOUS: '2'>: RelatedNodeInfo(node_id='314a8b9d-d77d-4bcb-b592-c3e53d9464e2', node_type=<ObjectType.TEXT: '1'>, metadata={'file_path': 'Datasets/chicken_data/v2t_SpeakerResponse_cleaned.xlsx', 'file_name': 'v2t_SpeakerResponse_cleaned.xlsx', 'file_type': 'application/vnd.openxmlformats-officedocument.spreadsheetml.sheet', 'file_size': 37698, 'creation_date': '2024-10-27', 'last_modified_date': '2024-10-27'}, hash='9eb627604824e76f20d4fc94d67f20765a51cae338466e13b29497ff19cd106c'), <NodeRelationship.NEXT: '3'>: RelatedNodeInfo(node_id='0de87899-7c40-4d9e-a0ac-0f6f8eff3fee', node_type=<ObjectType.TEXT: '1'>, metadata={}, hash='34719be44cd56e74372594de097fec87ab4126fd91b87ab71b5d60469980b150')}, text=\"This chunk is a discussion about what makes chicken interesting and fun to eat, as opposed to boring. The participant is asked to think about chicken products that they find interesting and enjoyable, and the conversation explores different chicken dishes and styles, including Taiwanese fried chicken cutlets, Korean fried chicken, and the qualities of a good chicken tender. \\n\\nKeywords: chicken, interesting, fun, boring, Taiwanese fried chicken, Korean fried chicken, chicken tender, cutlet,  \\n\\nLike if it's solely on this beef they can throw. I'm not saying hopping like, but can see you have this chicken bucket, it could be an option. 300 Speaker B\\nThe chippeast you find is a really interesting chicken product that's like really interesting, fun, and not boring. My question is, some people say that chicken is a bit boring. I mean, it's familiar. We eat it every day, so it's a bit boring. So are there any chicken products that you actually consider fun, interesting, different, that you look forward to eating that's not boring? Any parts of the chicken, any item of chicken, either at McDonald's or capesie or anywhere else? 301 Speaker A\\nLet me think. 302 Speaker B\\nThere has to be faster. Doesn't have to be what's a really interesting recipe for chicken or interesting chicken item that you've eaten? 303 Speaker A\\nIf I'm not going to patronize McDonald's or KFC or if I'm serving for fried chicken, chicken. 304 Speaker B\\nYeah, yeah. 305 Speaker A\\nI'll go to those. Like, I don't know, you've heard before those like eateries, they sell just chicken cutlets, big chicken cutter. Like shilling or shilling. 306 Speaker B\\nThe hot potato taiwanese market. Yeah. The Taiwan. Yeah, yeah. Oh, okay. Those street food, the Taiwan street food. 307 Speaker A\\nYeah. But they fry the fried huge chicken cutlet. So like that would be another go to for if I'm brewing for fried chicken. 308 Speaker B\\nOkay, so what's that like? What do you like about that? Is it the batter, is it the size? Is it the way they fry it? Could you just tell the difference if you can describe the difference. 309 Speaker A\\nIt's very helpful because that would be more. Because it's a huge, huge piece of cutlet. 310 Speaker B\\nAnd then you fry it. It's like a chop. Yeah, it's like a chicken chop. But even a hawker center's resident stall has a chop. 311 Speaker A\\nBut when they do that, the kind of stall they sell sometimes with bone in. So the marination when you absorb is different as well. Yeah. And small grease here, it's more unhealthy. 312 Speaker B\\nSo what's the shilling style? Like taiwanese style? 313 Speaker A\\nCrispy. It's a breakfast crispy? Yeah. And then I think spicy. And then they have other. They put other, like plum. 314 Speaker B\\nPlum powder? 315 Speaker A\\nYeah. 316 Speaker B\\nAnd sometimes is it they use cornstarch or they use wheat flour. You think all those things too technical. You don't know? You know, sometimes some consumers are so aware. Okay, okay. 317 Speaker A\\nI do. 318 Speaker B\\nDo you like korean chicken? Do you eat korean chicken? 319 Speaker A\\nYeah. 320 Speaker B\\nAny favorites? Any. 321 Speaker A\\nPreference or. Actually, I feel it's all about the same but perfect chicken eggs. Which one? 322 Speaker B\\nWhich one is. Which one do you like to eat? 323 Speaker A\\nMy last impression, I don't know. You've heard before, there used to be this one called bonchong. Yeah. 324 Speaker B\\nWould those kind of marinades flavor be suitable for my crispy. I think they have honey. 325 Speaker A\\nI think they tried. 326 Speaker B\\nThey tried. Have you tried the honey soy? 327 Speaker A\\nYeah, yeah. A bit heavy. 328 Speaker B\\nLike a bit heavy. 329 Speaker A\\nThis is just nice. 330 Speaker B\\nJust nice. Okay. 331 Speaker A\\nLike maybe like the one, the honey one that you mentioned. I eat one piece, then I won't go for another piece. This, I might go for another one. 332 Speaker B\\nI understand. I know the feeling. Yeah. Okay. Speaking of tenders, have you tried the tenders at KFC? Yeah, no, I'm just looking at the time because I know that we also tenders. You don't. So what would make a really good tender, like, what are the qualities described?\", mimetype='text/plain', start_char_idx=31139, end_char_idx=34807, text_template='{metadata_str}\\n\\n{content}', metadata_template='{key}: {value}', metadata_seperator='\\n'), score=1.3549922704696655),\n",
              " NodeWithScore(node=TextNode(id_='node_5', embedding=None, metadata={'file_path': 'Datasets/chicken_data/v2t_SpeakerResponse_cleaned.xlsx', 'file_name': 'v2t_SpeakerResponse_cleaned.xlsx', 'file_type': 'application/vnd.openxmlformats-officedocument.spreadsheetml.sheet', 'file_size': 37698, 'creation_date': '2024-10-27', 'last_modified_date': '2024-10-27', 'context': \"Context: This chunk is a conversation between two people, one of whom is a marketing researcher, about the new McCrispy chicken product at McDonald's. The researcher is asking the participant to compare the McCrispy to the participant's usual order, the McSpicy, and to rate the McCrispy on a scale of 1-10. The participant also discusses their preference for thigh meat over drumstick and their ability to distinguish the McCrispy from KFC chicken.\\n\\nKeywords: McCrispy, McSpicy, chicken, McDonald's, KFC, thigh, drumstick, rating, taste, flavor, marination, fragrance, aftertaste, preference, quality, ideal, comparison, new, innovative \\n\"}, excluded_embed_metadata_keys=['file_name', 'file_type', 'file_size', 'creation_date', 'last_modified_date', 'last_accessed_date'], excluded_llm_metadata_keys=['file_name', 'file_type', 'file_size', 'creation_date', 'last_modified_date', 'last_accessed_date'], relationships={<NodeRelationship.SOURCE: '1'>: RelatedNodeInfo(node_id='ac5cac7f-c5fe-4bbe-b364-e944ea5ac181', node_type=<ObjectType.DOCUMENT: '4'>, metadata={'file_path': 'Datasets/chicken_data/v2t_SpeakerResponse_cleaned.xlsx', 'file_name': 'v2t_SpeakerResponse_cleaned.xlsx', 'file_type': 'application/vnd.openxmlformats-officedocument.spreadsheetml.sheet', 'file_size': 37698, 'creation_date': '2024-10-27', 'last_modified_date': '2024-10-27'}, hash='49b0f8d7e808a3295e2b19347641c7b02aad7da69de39aee476743fe11637308'), <NodeRelationship.PREVIOUS: '2'>: RelatedNodeInfo(node_id='ec64d120-1e29-412c-aa1a-228337e26f49', node_type=<ObjectType.TEXT: '1'>, metadata={'file_path': 'Datasets/chicken_data/v2t_SpeakerResponse_cleaned.xlsx', 'file_name': 'v2t_SpeakerResponse_cleaned.xlsx', 'file_type': 'application/vnd.openxmlformats-officedocument.spreadsheetml.sheet', 'file_size': 37698, 'creation_date': '2024-10-27', 'last_modified_date': '2024-10-27'}, hash='54330aa1b9c61958ce962edc6901f21f8821b336dfbda785bd833a3b71691055'), <NodeRelationship.NEXT: '3'>: RelatedNodeInfo(node_id='c4cea5d2-4ca1-42d2-8e43-e8fcc9f7d20d', node_type=<ObjectType.TEXT: '1'>, metadata={}, hash='2529ae37e70dee496150703c8c4ed980110998bd3ecf8a47b5b264ba864aaf45')}, text=\"Context: This chunk is a conversation between two people, one of whom is a marketing researcher, about the new McCrispy chicken product at McDonald's. The researcher is asking the participant to compare the McCrispy to the participant's usual order, the McSpicy, and to rate the McCrispy on a scale of 1-10. The participant also discusses their preference for thigh meat over drumstick and their ability to distinguish the McCrispy from KFC chicken.\\n\\nKeywords: McCrispy, McSpicy, chicken, McDonald's, KFC, thigh, drumstick, rating, taste, flavor, marination, fragrance, aftertaste, preference, quality, ideal, comparison, new, innovative \\n\\n140 Speaker B\\nDifferent from what? 141 Speaker A\\nThe usual one I order is the Mac. The spicy one. 142 Speaker B\\nSpicy one. Okay. Okay. 143 Speaker A\\nSo the spicy one, the taste would taste and smell similar to my spicy. 144 Speaker B\\nAh, the spicy one. The batti. The spicy batti. Got it. Got it. 145 Speaker A\\nSo this one is, I would say, totally different. It's a bit different. 146 Speaker B\\nA bit different. Okay. Now why don't you try. Take a bite. What's the taste like? How does it taste? How are you feeling? 147 Speaker A\\nIt's easy to consume and it's not spicy. And it's the fragrance. 148 Speaker B\\nThere's still some fragrance. How would you describe the flavor so much? Like. 149 Speaker A\\nIt'S a bit of. Not so much of spices, but yeah. But the aftertaste is quite pleasant. 150 Speaker B\\nPleasant. And visually like the meat inside. What do you think about the meat? The quality, etcetera? 151 Speaker A\\nBecause my preference usually is not drumstick, but usually it's a Thai, but it's good enough to have feedback. 152 Speaker B\\nWhy do you like the Thai more than the drumstick? 153 Speaker A\\nI always feel it's more meat. 154 Speaker B\\nMine has more meat. This one is more bomb. 155 Speaker A\\nLike. If I ordered chicken rice, I wouldn't order chopstick. 156 Speaker B\\nOkay. 157 Speaker A\\nYeah. 158 Speaker B\\nThen would you like an option where you can get just the thigh as the side? Be able to pick the part? 159 Speaker A\\nIf there is an option, I would choose. 160 Speaker B\\nOkay. Okay. Can you tell this is McCrispy from McDonald's? If you didn't see it with the wrapping, if it was in somebody's potluck and already opened and placed in a plate, would you know if it's McDonald's and not KFC? 161 Speaker A\\nSo maybe I can tell. 162 Speaker B\\nYou can tell, but when you taste it, also, can you tell if it's my first time? No. No. Now that you know, I mean, like, now, would you be able to tell? Yeah, you know? Okay. You can recognize it's McCrispy. So what is giving it away? How do you know it's McCrispy and not KFC? 163 Speaker A\\nEven though it's not spicy, but I think the base of the marination is quite similar to the ingredients. I might not know the ingredients, but this is taste. You can tell it's okay. Okay. 164 Speaker B\\nSame. From the same kitchen? Same kitchen. Okay. Okay. On a scale of one to ten, how good is this crispy? 165 Speaker A\\nEight, I guess. 166 Speaker B\\nEight. Is there an ideal that you like? That's a ten. Would you give ten to any? 167 Speaker A\\nIf it's a Thai, there will be ten. 168 Speaker B\\nIt's a Thai. This is ten. Okay. Not KFC. Is there another plant and another passport that you have to give a ten? 169 Speaker A\\nIf I'm eating this now, but I think I'm KFC. 170 Speaker B\\nNo, my question is, if you have, like, an ideal. Your ideal chicken, which one is your ideal chicken? One that you like most, like KFC product or, you know, any other classmates. So would you give a ten for that? 171 Speaker A\\nYeah. 172 Speaker B\\nYeah. So this one, in comparison is how much? 173 Speaker A\\nSlightly short? Four. But. 174 Speaker B\\nSo what's like. What's it. Where is it? Yeah, yeah, yeah. 175 Speaker A\\nI think I still prefer it spicy. Yeah, but this is something new. That's why the rating is quite high. 176 Speaker B\\nOkay. 177 Speaker A\\nI'm someone that don't mind trying new meat as long as chicken, because chicken.\", mimetype='text/plain', start_char_idx=14298, end_char_idx=17671, text_template='{metadata_str}\\n\\n{content}', metadata_template='{key}: {value}', metadata_seperator='\\n'), score=1.2387425899505615)]"
            ]
          },
          "execution_count": 24,
          "metadata": {},
          "output_type": "execute_result"
        }
      ],
      "source": [
        "query = \"what is the most preferred side dish? be descriptive\"\n",
        "# query = \"what is APAP? Explain in detail\"\n",
        "relevant_chunks = get_relevant_chunks(query=query)\n",
        "relevant_chunks"
      ]
    },
    {
      "cell_type": "markdown",
      "metadata": {},
      "source": [
        "## Define an LLM to see what kind of `RAG` can be built with the retrieved documents\n",
        "\n",
        "#### @TODO : Answering LLM for this RAG should make full use of the context/keywords provided. Define some sort of `chain-of-thought` reasoning or `ReAct framework` reasoning for it"
      ]
    },
    {
      "cell_type": "code",
      "execution_count": 25,
      "metadata": {},
      "outputs": [
        {
          "name": "stdout",
          "output_type": "stream",
          "text": [
            "Changed model name to : claude-3.5-sonnet...\n",
            "\n"
          ]
        }
      ],
      "source": [
        "rag_llm = AsyncLLMPipelineBuilder(\"\"\"\"You are an expert analyst chatbot named EzyChat. you will be given excepts from a transcript\n",
        "                                    and a question, you will have to answer the question solely based on the\n",
        "                                    information provided in the excepts.\n",
        "                                    Do not make generalisations or assumptions.\n",
        "                                    Be confident in your answers. but also helpful\n",
        "                                    Do not answer any questions that are not in scope of the given excerpts.\n",
        "                                    Do not mention the excerpt from which your answer is from.\"\"\",\n",
        "                                    # model=\"gemini-1.5-flash\"\n",
        "                                    # model=\"gpt-4o\"\n",
        "                                    # model=\"gemini-1.5-pro\"\n",
        "                                    model=\"claude-3.5-sonnet\"\n",
        "                                )"
      ]
    },
    {
      "cell_type": "code",
      "execution_count": 27,
      "metadata": {},
      "outputs": [
        {
          "name": "stderr",
          "output_type": "stream",
          "text": [
            "  0%|          | 0/1 [00:00<?, ?it/s]"
          ]
        },
        {
          "name": "stdout",
          "output_type": "stream",
          "text": [
            "0 requests out of 1 requests either timed out or returned non-parseable outputs ...\n"
          ]
        },
        {
          "name": "stderr",
          "output_type": "stream",
          "text": [
            "100%|██████████| 1/1 [00:06<00:00,  6.72s/it]\n"
          ]
        },
        {
          "data": {
            "text/plain": [
              "(\"use this context for the text excerpt : Context: This chunk is a continuation of the discussion about the participant's preference for KFC chicken over McDonald's chicken. The participant explains that KFC chicken is more of a main dish for them, while McDonald's chicken is more of a side dish. The conversation then transitions to the participant's experience with the McCrispy chicken, which they have tried recently. \\n\\nKeywords: KFC, McDonald's, chicken, McCrispy, preference, main dish, side dish, taste, fragrance, spicy, marination, batter \\n\\ntext excerpt : Context: This chunk is a continuation of the discussion about the participant's preference for KFC chicken over McDonald's chicken. The participant explains that KFC chicken is more of a main dish for them, while McDonald's chicken is more of a side dish. The conversation then transitions to the participant's experience with the McCrispy chicken, which they have tried recently. \\n\\nKeywords: KFC, McDonald's, chicken, McCrispy, preference, main dish, side dish, taste, fragrance, spicy, marination, batter \\n\\nThat is quite heavy. 110 Speaker B\\nBut here, why do you say the chicken is more like a side or an add on? 111 Speaker A\\nBecause the focus is always on the burger. Yeah. Because like Mac Krispies is not something that they all along have lately they came up with. 112 Speaker B\\nOkay, so let me ask you to think about when do you feel like eating a burger and come to McDonald's? What's that moment like? Or what's the mood that you're in versus when do you go to KFC to eat chicken? Like, can you take us through the different convenience which is more convenient? Like, both are convenient, right? 113 Speaker A\\nLike on the air. And if it's dining, it's almost in every mall or even in the neighbourhood, you can find a McDonald's. 114 Speaker B\\nI know, I know. But even KFC convenient wouldn't say, oh, it's not. 115 Speaker A\\nIt's not as convenient. 116 Speaker B\\nAlso then if you want to eat chicken, then it's like you have to make an effort to go to KFC. Yeah. 117 Speaker A\\nI think KFC is also not on grab as well, if I'm not wrong. But my frequency of ordering through grab is always. Fast food is McDonald's. 118 Speaker B\\nMcDonald's is your go to fast food. So then tell us, what does it feel like when you're craving chicken? When is it that you actually go to KFC? Make the effort. Find a KFC, go there to eat. 119 Speaker A\\nChicken, make the effort. Dine in. 120 Speaker B\\nWhat? Dine in. Or do you order KFC? 121 Speaker A\\nOkay. Order wise, it's always like a party occasion. More people gathering than we all think of. 122 Speaker B\\nWho's in that party? Is it you, your friends, family, friends gathering. 123 Speaker A\\nSo if it's like potluck, if you order chicken, chicken, KFC is the turn to as well. 124 Speaker B\\nPotluck, it's KFC chicken. 125 Speaker A\\nSorry. 126 Speaker B\\nWhen you do potluck, it's KFC chicken. 127 Speaker A\\nYeah. KFC pizza hut. It's something. Singapore is a little too. 128 Speaker B\\nYeah. Thank you. 129 Speaker A\\nIt's always western. 130 Speaker B\\nYeah. Canadian. Yeah. Yeah. The go to orders. Yeah. Well, now your food is here. Let's open. Can we? You got your chicken? The chicken piece? Yeah. Why don't you open the chicken piece? 131 Speaker A\\nOh, this one? 132 Speaker B\\nYeah. You got the McWanes? Yeah. Maybe we can look at that a bit later. I just wanted to open the chicken. Yeah. Okay. Now that you have the McCrispy here, is this the one that you ordered? 133 Speaker A\\nYes. 134 Speaker B\\nNewer one. Looking at it, how does it look like? How does it feel? What are your thoughts? 135 Speaker A\\nIt looks different, as advertised. 136 Speaker B\\nOkay. 137 Speaker A\\nYeah. Because I had tried it recently before. 138 Speaker B\\nOkay. The smell and everything. How do you find it smells different. 139 Speaker A\\nDifferent? The marination, the battle. 140 Speaker B\\nDifferent from what? 141 Speaker A\\nThe usual one I order is the Mac. The spicy one. 142 Speaker B\\nSpicy one. Okay. Okay. 143 Speaker A\\nSo the spicy one, the taste would taste and smell similar to my spicy. 144 Speaker B\\nAh, the spicy one. The batti. The spicy batti. Got it. Got it. 145 Speaker A\\nSo this one is, I would say, totally different. It's a bit different. 146 Speaker B\\nA bit different. Okay. Now why don't you try. Take a bite. What's the taste like? How does it taste? How are you feeling? 147 Speaker A\\nIt's easy to consume and it's not spicy. And it's the fragrance. 148 Speaker B\\nThere's still some fragrance.\\n\\nuse this context for the text excerpt : Context: This chunk is a conversation between two people, one of whom is a marketing researcher, about the new McCrispy chicken product at McDonald's. The researcher is asking the participant to compare the McCrispy to the participant's usual order, the McSpicy, and to rate the McCrispy on a scale of 1-10. The participant also discusses their preference for thigh meat over drumstick and their ability to distinguish the McCrispy from KFC chicken.\\n\\nKeywords: McCrispy, McSpicy, chicken, McDonald's, KFC, thigh, drumstick, rating, taste, flavor, marination, fragrance, aftertaste, preference, quality, ideal, comparison, new, innovative \\n\\ntext excerpt : Context: This chunk is a conversation between two people, one of whom is a marketing researcher, about the new McCrispy chicken product at McDonald's. The researcher is asking the participant to compare the McCrispy to the participant's usual order, the McSpicy, and to rate the McCrispy on a scale of 1-10. The participant also discusses their preference for thigh meat over drumstick and their ability to distinguish the McCrispy from KFC chicken.\\n\\nKeywords: McCrispy, McSpicy, chicken, McDonald's, KFC, thigh, drumstick, rating, taste, flavor, marination, fragrance, aftertaste, preference, quality, ideal, comparison, new, innovative \\n\\n140 Speaker B\\nDifferent from what? 141 Speaker A\\nThe usual one I order is the Mac. The spicy one. 142 Speaker B\\nSpicy one. Okay. Okay. 143 Speaker A\\nSo the spicy one, the taste would taste and smell similar to my spicy. 144 Speaker B\\nAh, the spicy one. The batti. The spicy batti. Got it. Got it. 145 Speaker A\\nSo this one is, I would say, totally different. It's a bit different. 146 Speaker B\\nA bit different. Okay. Now why don't you try. Take a bite. What's the taste like? How does it taste? How are you feeling? 147 Speaker A\\nIt's easy to consume and it's not spicy. And it's the fragrance. 148 Speaker B\\nThere's still some fragrance. How would you describe the flavor so much? Like. 149 Speaker A\\nIt'S a bit of. Not so much of spices, but yeah. But the aftertaste is quite pleasant. 150 Speaker B\\nPleasant. And visually like the meat inside. What do you think about the meat? The quality, etcetera? 151 Speaker A\\nBecause my preference usually is not drumstick, but usually it's a Thai, but it's good enough to have feedback. 152 Speaker B\\nWhy do you like the Thai more than the drumstick? 153 Speaker A\\nI always feel it's more meat. 154 Speaker B\\nMine has more meat. This one is more bomb. 155 Speaker A\\nLike. If I ordered chicken rice, I wouldn't order chopstick. 156 Speaker B\\nOkay. 157 Speaker A\\nYeah. 158 Speaker B\\nThen would you like an option where you can get just the thigh as the side? Be able to pick the part? 159 Speaker A\\nIf there is an option, I would choose. 160 Speaker B\\nOkay. Okay. Can you tell this is McCrispy from McDonald's? If you didn't see it with the wrapping, if it was in somebody's potluck and already opened and placed in a plate, would you know if it's McDonald's and not KFC? 161 Speaker A\\nSo maybe I can tell. 162 Speaker B\\nYou can tell, but when you taste it, also, can you tell if it's my first time? No. No. Now that you know, I mean, like, now, would you be able to tell? Yeah, you know? Okay. You can recognize it's McCrispy. So what is giving it away? How do you know it's McCrispy and not KFC? 163 Speaker A\\nEven though it's not spicy, but I think the base of the marination is quite similar to the ingredients. I might not know the ingredients, but this is taste. You can tell it's okay. Okay. 164 Speaker B\\nSame. From the same kitchen? Same kitchen. Okay. Okay. On a scale of one to ten, how good is this crispy? 165 Speaker A\\nEight, I guess. 166 Speaker B\\nEight. Is there an ideal that you like? That's a ten. Would you give ten to any? 167 Speaker A\\nIf it's a Thai, there will be ten. 168 Speaker B\\nIt's a Thai. This is ten. Okay. Not KFC. Is there another plant and another passport that you have to give a ten? 169 Speaker A\\nIf I'm eating this now, but I think I'm KFC. 170 Speaker B\\nNo, my question is, if you have, like, an ideal. Your ideal chicken, which one is your ideal chicken? One that you like most, like KFC product or, you know, any other classmates. So would you give a ten for that? 171 Speaker A\\nYeah. 172 Speaker B\\nYeah. So this one, in comparison is how much? 173 Speaker A\\nSlightly short? Four. But. 174 Speaker B\\nSo what's like. What's it. Where is it? Yeah, yeah, yeah. 175 Speaker A\\nI think I still prefer it spicy. Yeah, but this is something new. That's why the rating is quite high. 176 Speaker B\\nOkay. 177 Speaker A\\nI'm someone that don't mind trying new meat as long as chicken, because chicken.\\n\\nuse this context for the text excerpt : This chunk is a discussion about the consumer's preference for whole meat versus minced meat in chicken products, specifically in relation to the McCrispy chicken. The discussion then moves on to explore the potential for the McCrispy batter and marinade to be used on other chicken products, such as tenders and McChicken. \\n\\nKeywords: McCrispy, whole meat, minced meat, tenders, McChicken, batter, marinade, chicken products \\n\\ntext excerpt : This chunk is a discussion about the consumer's preference for whole meat versus minced meat in chicken products, specifically in relation to the McCrispy chicken. The discussion then moves on to explore the potential for the McCrispy batter and marinade to be used on other chicken products, such as tenders and McChicken. \\n\\nKeywords: McCrispy, whole meat, minced meat, tenders, McChicken, batter, marinade, chicken products \\n\\nSo what does it convey to you? 247 Speaker A\\nDoes it convey. 248 Speaker B\\nYeah. Versus minced meat versus markets. 249 Speaker A\\nWhy this. 250 Speaker B\\nYeah, why do you like it more filling. Any other things you associate with the whole meat? 251 Speaker A\\nMore time to savour the taste. 252 Speaker B\\nMore time to savor the taste compared. 253 Speaker A\\nTo just like a McNuggets, like a mincemeat. One mouth. For me, I'm quite a big mouth, so one mouth. I can't really have time to savor the taste. So I like, you know, the whole point of eating is to have the second bite, the subsequent bite. Yeah. 254 Speaker B\\nSo you can enjoy longer. So then when would you eat McCrispy chicken? Would it be when you are having a leisurely meal, you want to come relax and spend half an hour enjoying a meal? Or would it be like, okay, in and out quick? I'm busy after to get many things done, I just quickly get my crispy and eat it. So what's the scenario like? 255 Speaker A\\nMy crispy would not be in and out quick because when it comes piping hot, you can't eat past as well. Yeah, you need tiger cinnamon too. 256 Speaker B\\nSo what's the typical McCrispy meal time? Like half an hour at the minimum or. Yeah, half an hour versus a McSpicy burger. When you come to eat McSpicy, do you come with the intention of, okay, 30 minutes? I'm not gonna, you know, do anything else. Just eat. Or is it like, quick, quick, quick? 257 Speaker A\\nSame as six takes time. It's not like if I'm prepping ankle from McDonald's will be just like a simple McChicken fillet in combo down, easy to consume. So this will take time? 258 Speaker B\\nYeah, go ahead, please try whatever you like. To eat. So if this McCrispy were to become, like, a tender, or maybe could it become like a McQueen? Could the McCrispy batter marinade work for McQueen? 259 Speaker A\\nIt could be, but it definitely will not taste the same. 260 Speaker B\\nWould it replace the current McQueen, or would there be room for, like, two types of mcQueens? Crispy McQueen and original McQueen? 261 Speaker A\\nI don't think it will replace. I think it's good to have more options. 262 Speaker B\\nSo crispy mcWings and original mcwings. Okay. What else could it become? You mentioned this patty. So would the patty work well in a, like, have you tried the other products, like the wrap, the grilled chicken wrap? 263 Speaker A\\nBig Lee? I did eat before, but it's very. 264 Speaker B\\nBig. 265 Speaker C\\nMemory of it. 266 Speaker B\\nGood grilled chicken. Bee McCaspy, maybe. 267 Speaker A\\nBut this is meaning fried. 268 Speaker B\\nSo McCrispy needs to be fried to be crispy. To be McCrispy. Otherwise not genuine. Yeah. Actually that's very helpful for us to know. Like, like, when, when is it. When is it going to be genuine? Genuinely like my crispy? What can change and what cannot change? Can the meat change? Like you said, it's okay to use breast meat. 269 Speaker A\\nYeah, but I think most fast food, I usually drop it. 270 Speaker B\\nOkay. But minced meat. No, it has to be like whole meat. 271 Speaker A\\nYeah. 272 Speaker B\\nYeah, yeah, yeah. Okay. And fried. Not going home. 273 Speaker A\\nYes. 274 Speaker B\\nOkay. So what about the meat itself? Can it be any other meat than chicken? Canned fish, pork. 275 Speaker A\\nFish. 276 Speaker B\\nStrange. 277 Speaker A\\nI never really seen them exploring their filet o fish. 278 Speaker B\\nYeah, but we can be creative. Do you think that, do you think that the crispy could go to other types of meat or should it only be chicken?\\n\\nuse this context for the text excerpt : This chunk is a discussion about the respondent's preference for McDonald's chicken, specifically the McCrispy, and how it compares to KFC chicken. The respondent discusses the different flavors and how they perceive the chicken as a side dish at McDonald's versus a main dish at KFC. \\n\\nKeywords: McCrispy, KFC, McDonald's, chicken, side dish, main dish, flavors, preference, innovative, seasonal, burger, value box, convenience \\n\\ntext excerpt : This chunk is a discussion about the respondent's preference for McDonald's chicken, specifically the McCrispy, and how it compares to KFC chicken. The respondent discusses the different flavors and how they perceive the chicken as a side dish at McDonald's versus a main dish at KFC. \\n\\nKeywords: McCrispy, KFC, McDonald's, chicken, side dish, main dish, flavors, preference, innovative, seasonal, burger, value box, convenience \\n\\nOkay. So what do you like about the chicken at McDonald's else? 77 Speaker A\\nChicken? I think they are getting more innovative a bit. Yeah. Because they don't start off with chicken. 78 Speaker B\\nThey start out with bubble. 79 Speaker C\\nYeah. Chicken. My usual turn to is always KFC. 80 Speaker B\\nOh, okay. 81 Speaker A\\nYeah. So. But I realized they are getting more creative and innovative with their chicken. Like the different flavor. 82 Speaker B\\nWhat do you notice that it's not. 83 Speaker A\\nJust, it's not just spicy and unspicy. Really go with different flavors. 84 Speaker B\\nThey're trying out, like some examples. What are the flavors? 85 Speaker A\\nI can't remember. Like sometimes they lunch with the burger itself. So let's say the korean one, then the sweet and sour whatsoever. So they will couple it with the chicken as well. So when it's new, try once consistently because it's seasonal. So they will be up there and they will take it out. 86 Speaker B\\nOkay. There's more seasonal chicken burgers. Some of them. 87 Speaker A\\nChicken. Chicken. 88 Speaker B\\nYeah, chicken. 89 Speaker A\\nBut the chicken, the burger is always there. 90 Speaker B\\nOkay. Okay, so the seasonal chicken, which one have you tried sweetened? The korean one you mentioned. Is that the McCrispy? 91 Speaker A\\nYeah, it's always the McCrispy that they try. 92 Speaker B\\nWhen did you first try it? I couldn't remember long back or like recent times? 93 Speaker A\\nRecent months. 94 Speaker B\\nRecent times. Okay, so what made you kind of try the McCrispy? 95 Speaker A\\nSorry? 96 Speaker B\\nWhat made you try the McCrispy? Because tumors. 97 Speaker A\\nYeah, it's always on. Yeah, we watch tv quite a bit, so it's always on Evans. 98 Speaker B\\nBut you're also a KFC fan, right? You mentioned it, yeah. So how does the chicken in McDonald's compare with all the chicken in KFC? 99 Speaker A\\nIf I consume the chicken here, it's always coupled with the burger, like a side dish. But if I go to KFC, it's going to be a main dish or chicken. Yeah. It's a different agenda. 100 Speaker B\\nOkay. So then when you order them, it's spicy here. What's your typical order? Is it like how you ordered today? 101 Speaker A\\nYeah. 102 Speaker B\\nAs a meal? 103 Speaker A\\nYeah, as a meal. Chisel drink? Yeah, usually size surprise. Usually if I'm dining with my girlfriend, then we can share the meal. Then she will just order Alakka. 104 Speaker B\\nBut you mentioned that chicken here is more like a side, but a KFC, it's the main thing you eat. 105 Speaker A\\nYeah. Yeah. 106 Speaker B\\nSo then what do you eat is the main thing for lunch at KFC. 107 Speaker A\\nSo eat two piece meat. 108 Speaker B\\nTwo piece. The same chicken. 109 Speaker A\\nYeah. I used to eat, they have this value box. So it's like a single burger and a piece of chicken. That's quite value. That is quite heavy. 110 Speaker B\\nBut here, why do you say the chicken is more like a side or an add on? 111 Speaker A\\nBecause the focus is always on the burger. Yeah. Because like Mac Krispies is not something that they all along have lately they came up with. 112 Speaker B\\nOkay, so let me ask you to think about when do you feel like eating a burger and come to McDonald's? What's that moment like? Or what's the mood that you're in versus when do you go to KFC to eat chicken? Like, can you take us through the different convenience which is more convenient? Like, both are convenient, right? 113 Speaker A\\nLike on the air. And if it's dining, it's almost in every mall or even in the neighbourhood, you can find a McDonald's. 114 Speaker B\\nI know, I know.\\n\\nuse this context for the text excerpt : This chunk is a discussion about the potential for McCrispy chicken to be incorporated into other McDonald's menu items, specifically tenders and breakfast options. \\n\\nKeywords: McCrispy, tenders, breakfast, McMuffin, chicken, McDonald's, menu,  \\n\\ntext excerpt : This chunk is a discussion about the potential for McCrispy chicken to be incorporated into other McDonald's menu items, specifically tenders and breakfast options. \\n\\nKeywords: McCrispy, tenders, breakfast, McMuffin, chicken, McDonald's, menu,  \\n\\n325 Speaker A\\nI think they tried. 326 Speaker B\\nThey tried. Have you tried the honey soy? 327 Speaker A\\nYeah, yeah. A bit heavy. 328 Speaker B\\nLike a bit heavy. 329 Speaker A\\nThis is just nice. 330 Speaker B\\nJust nice. Okay. 331 Speaker A\\nLike maybe like the one, the honey one that you mentioned. I eat one piece, then I won't go for another piece. This, I might go for another one. 332 Speaker B\\nI understand. I know the feeling. Yeah. Okay. Speaking of tenders, have you tried the tenders at KFC? Yeah, no, I'm just looking at the time because I know that we also tenders. You don't. So what would make a really good tender, like, what are the qualities described? 333 Speaker A\\nJuicy. Juicy, tender. 334 Speaker B\\nTender. But is there a preference? Like should it thigh meat, press meat, lean meat more? What's like the taste and the feeling of eating high meat versus breast meat? Easier to eat as well. 335 Speaker A\\nEasily dry. 336 Speaker B\\nEasily dry. 337 Speaker A\\nSo it might not savor the somehow time it does. Look at it. It's like we see unhealthy earlier. 338 Speaker B\\nYeah, but does it bother, I mean, does it actually bother people? Everybody says that it's greasy, unhealthy, etcetera, etcetera. But to what extent does it actually think about this? Is this something that you think about? 339 Speaker A\\nThat's why I minimize the frequency of eating it. You can wait on a Monday basis. 340 Speaker B\\nOkay. Okay. Okay. So the tenders. We talked about putting that in the party box along with nutties. So, like, how many tenders would be, like, nice as a snack and how many would like, can it be a meal? What would be, like, the roll of tenders on the menu? Would it be like a side. Would it be like. 341 Speaker A\\nIt could be like a nuggets. Like, the numbers are usually 4646 nuggets. Big one is 20. 342 Speaker B\\nSo four would be a small order. A side order add on. 343 Speaker A\\nNumber would be good. 344 Speaker B\\nWhat actually suggests the, you know, the product better, the word tenders or the word strips? Chicken strips or the word bites? Because some people said that tender is a very specific big fillet of the chicken breast. That's what some people say. So that's why we ask. Strips. 345 Speaker A\\nIt might be more appealing. Tenders. 346 Speaker B\\nTenders is more appealing. 347 Speaker A\\nYeah, but it would be like, okay, one bite. That's it. 348 Speaker B\\nOh, one bite might suggest. 349 Speaker A\\nBite is like a verb. So people think, like, you want me to bite? The fender is like, oh, it's like a thing that I want to eat. 350 Speaker B\\nOkay. Understand. What about breakfast? Do you get McDonald's breakfast? 351 Speaker A\\nI used to always order their big breakfast inside mall, but nowadays I only order the sausage. 352 Speaker B\\nOkay. And the wraps. You've never tried? 353 Speaker A\\nNot favorable. 354 Speaker B\\nOkay. Would mccrispies sit well in the breakfast menu? Would you order it for breakfast by itself or with the salad? 355 Speaker A\\nI think they tried before. Oh, yeah, they had the. It's like the sausage mummy. They replaced the sausage with the chicken recipe. Yeah, they do have it. This might go right. 356 Speaker B\\nOkay. 357 Speaker A\\nWith the breakfast bun. 358 Speaker B\\nYeah. So, like you said, the patty, the McCrispy, they said could come a patty itself. So would that go well with the muffin? McMuffin? 359 Speaker A\\nYeah, it does. 360 Speaker B\\nSo that could be an option. So I think that's a good match, good mix.\\n\\nuse this context for the text excerpt : This chunk is a discussion about what makes chicken interesting and fun to eat, as opposed to boring. The participant is asked to think about chicken products that they find interesting and enjoyable, and the conversation explores different chicken dishes and styles, including Taiwanese fried chicken cutlets, Korean fried chicken, and the qualities of a good chicken tender. \\n\\nKeywords: chicken, interesting, fun, boring, Taiwanese fried chicken, Korean fried chicken, chicken tender, cutlet,  \\n\\ntext excerpt : This chunk is a discussion about what makes chicken interesting and fun to eat, as opposed to boring. The participant is asked to think about chicken products that they find interesting and enjoyable, and the conversation explores different chicken dishes and styles, including Taiwanese fried chicken cutlets, Korean fried chicken, and the qualities of a good chicken tender. \\n\\nKeywords: chicken, interesting, fun, boring, Taiwanese fried chicken, Korean fried chicken, chicken tender, cutlet,  \\n\\nLike if it's solely on this beef they can throw. I'm not saying hopping like, but can see you have this chicken bucket, it could be an option. 300 Speaker B\\nThe chippeast you find is a really interesting chicken product that's like really interesting, fun, and not boring. My question is, some people say that chicken is a bit boring. I mean, it's familiar. We eat it every day, so it's a bit boring. So are there any chicken products that you actually consider fun, interesting, different, that you look forward to eating that's not boring? Any parts of the chicken, any item of chicken, either at McDonald's or capesie or anywhere else? 301 Speaker A\\nLet me think. 302 Speaker B\\nThere has to be faster. Doesn't have to be what's a really interesting recipe for chicken or interesting chicken item that you've eaten? 303 Speaker A\\nIf I'm not going to patronize McDonald's or KFC or if I'm serving for fried chicken, chicken. 304 Speaker B\\nYeah, yeah. 305 Speaker A\\nI'll go to those. Like, I don't know, you've heard before those like eateries, they sell just chicken cutlets, big chicken cutter. Like shilling or shilling. 306 Speaker B\\nThe hot potato taiwanese market. Yeah. The Taiwan. Yeah, yeah. Oh, okay. Those street food, the Taiwan street food. 307 Speaker A\\nYeah. But they fry the fried huge chicken cutlet. So like that would be another go to for if I'm brewing for fried chicken. 308 Speaker B\\nOkay, so what's that like? What do you like about that? Is it the batter, is it the size? Is it the way they fry it? Could you just tell the difference if you can describe the difference. 309 Speaker A\\nIt's very helpful because that would be more. Because it's a huge, huge piece of cutlet. 310 Speaker B\\nAnd then you fry it. It's like a chop. Yeah, it's like a chicken chop. But even a hawker center's resident stall has a chop. 311 Speaker A\\nBut when they do that, the kind of stall they sell sometimes with bone in. So the marination when you absorb is different as well. Yeah. And small grease here, it's more unhealthy. 312 Speaker B\\nSo what's the shilling style? Like taiwanese style? 313 Speaker A\\nCrispy. It's a breakfast crispy? Yeah. And then I think spicy. And then they have other. They put other, like plum. 314 Speaker B\\nPlum powder? 315 Speaker A\\nYeah. 316 Speaker B\\nAnd sometimes is it they use cornstarch or they use wheat flour. You think all those things too technical. You don't know? You know, sometimes some consumers are so aware. Okay, okay. 317 Speaker A\\nI do. 318 Speaker B\\nDo you like korean chicken? Do you eat korean chicken? 319 Speaker A\\nYeah. 320 Speaker B\\nAny favorites? Any. 321 Speaker A\\nPreference or. Actually, I feel it's all about the same but perfect chicken eggs. Which one? 322 Speaker B\\nWhich one is. Which one do you like to eat? 323 Speaker A\\nMy last impression, I don't know. You've heard before, there used to be this one called bonchong. Yeah. 324 Speaker B\\nWould those kind of marinades flavor be suitable for my crispy. I think they have honey. 325 Speaker A\\nI think they tried. 326 Speaker B\\nThey tried. Have you tried the honey soy? 327 Speaker A\\nYeah, yeah. A bit heavy. 328 Speaker B\\nLike a bit heavy. 329 Speaker A\\nThis is just nice. 330 Speaker B\\nJust nice. Okay. 331 Speaker A\\nLike maybe like the one, the honey one that you mentioned. I eat one piece, then I won't go for another piece. This, I might go for another one. 332 Speaker B\\nI understand. I know the feeling. Yeah. Okay. Speaking of tenders, have you tried the tenders at KFC? Yeah, no, I'm just looking at the time because I know that we also tenders. You don't. So what would make a really good tender, like, what are the qualities described?\\n\",\n",
              " 'Based on the provided excerpts, there is no clear indication of a most preferred side dish. The conversation primarily focuses on chicken as a main dish or as part of a meal, rather than discussing side dishes specifically. \\n\\nHowever, the excerpts do mention that at McDonald\\'s, chicken is often seen as more of a side dish or add-on to the burger, which is considered the main focus. For example, one speaker states:\\n\\n\"Because the focus is always on the burger. Yeah. Because like Mac Krispies is not something that they all along have lately they came up with.\"\\n\\nThis suggests that while chicken items like McCrispy are available, they are not typically considered the primary or most preferred side dish at McDonald\\'s. The conversation does not provide enough information to definitively state what the most preferred side dish is across different fast food chains or in general.')"
            ]
          },
          "execution_count": 27,
          "metadata": {},
          "output_type": "execute_result"
        }
      ],
      "source": [
        "answer_query(relevant_chunks,\n",
        "             query=query,\n",
        "             llm=rag_llm, use_context=True)"
      ]
    },
    {
      "cell_type": "code",
      "execution_count": 29,
      "metadata": {},
      "outputs": [
        {
          "name": "stderr",
          "output_type": "stream",
          "text": [
            "  0%|          | 0/1 [00:00<?, ?it/s]"
          ]
        },
        {
          "name": "stdout",
          "output_type": "stream",
          "text": [
            "0 requests out of 1 requests either timed out or returned non-parseable outputs ...\n"
          ]
        },
        {
          "name": "stderr",
          "output_type": "stream",
          "text": [
            "100%|██████████| 1/1 [00:05<00:00,  5.87s/it]\n"
          ]
        },
        {
          "data": {
            "text/plain": [
              "{'query': 'Compare the opinions regarding liking Bone-in meat versus thigh/thai meat',\n",
              " 'documents retrieved': [NodeWithScore(node=TextNode(id_='node_8', embedding=None, metadata={'file_path': 'Datasets/chicken_data/v2t_SpeakerResponse_cleaned.xlsx', 'file_name': 'v2t_SpeakerResponse_cleaned.xlsx', 'file_type': 'application/vnd.openxmlformats-officedocument.spreadsheetml.sheet', 'file_size': 37698, 'creation_date': '2024-10-27', 'last_modified_date': '2024-10-27', 'context': 'This chunk is a discussion between the interviewer and interviewee about what could make the McCrispy chicken more appealing to the interviewee. The interviewee suggests a value box with McCrispy chicken as a patty, tenders, and nuggets. They also discuss the importance of whole meat versus minced meat in chicken products. \\n\\nKeywords: McCrispy, chicken, value box, patty, tenders, nuggets, whole meat, minced meat \\n', 'retrieval_score': 5.351810932159424}, excluded_embed_metadata_keys=['file_name', 'file_type', 'file_size', 'creation_date', 'last_modified_date', 'last_accessed_date'], excluded_llm_metadata_keys=['file_name', 'file_type', 'file_size', 'creation_date', 'last_modified_date', 'last_accessed_date'], relationships={<NodeRelationship.SOURCE: '1'>: RelatedNodeInfo(node_id='ac5cac7f-c5fe-4bbe-b364-e944ea5ac181', node_type=<ObjectType.DOCUMENT: '4'>, metadata={'file_path': 'Datasets/chicken_data/v2t_SpeakerResponse_cleaned.xlsx', 'file_name': 'v2t_SpeakerResponse_cleaned.xlsx', 'file_type': 'application/vnd.openxmlformats-officedocument.spreadsheetml.sheet', 'file_size': 37698, 'creation_date': '2024-10-27', 'last_modified_date': '2024-10-27'}, hash='49b0f8d7e808a3295e2b19347641c7b02aad7da69de39aee476743fe11637308'), <NodeRelationship.PREVIOUS: '2'>: RelatedNodeInfo(node_id='482720cd-52bc-49c4-b334-859e24133bfc', node_type=<ObjectType.TEXT: '1'>, metadata={'file_path': 'Datasets/chicken_data/v2t_SpeakerResponse_cleaned.xlsx', 'file_name': 'v2t_SpeakerResponse_cleaned.xlsx', 'file_type': 'application/vnd.openxmlformats-officedocument.spreadsheetml.sheet', 'file_size': 37698, 'creation_date': '2024-10-27', 'last_modified_date': '2024-10-27'}, hash='f890e6b982a59d272d413d8e90578cc3ae215afb658307930083ececc7eb34f5'), <NodeRelationship.NEXT: '3'>: RelatedNodeInfo(node_id='8039ee50-fe84-4060-80b4-ee991019e5bf', node_type=<ObjectType.TEXT: '1'>, metadata={}, hash='bbde7970f36a096e3922e17da116dff36fc5a23568519f849e2155d01547fc4b')}, text=\"This chunk is a discussion between the interviewer and interviewee about what could make the McCrispy chicken more appealing to the interviewee. The interviewee suggests a value box with McCrispy chicken as a patty, tenders, and nuggets. They also discuss the importance of whole meat versus minced meat in chicken products. \\n\\nKeywords: McCrispy, chicken, value box, patty, tenders, nuggets, whole meat, minced meat \\n\\n220 Speaker B\\nYou don't put chilli? 221 Speaker A\\nYeah. Especially with chicken, its best origin. 222 Speaker B\\nOh, really? Okay. Yeah. So then what could make it really very compelling for you to come to McDonald's to eat McFee? 223 Speaker A\\nI think if it's gonna make it like a meal, like a main course for people to come here and eat it, I think the idea, like a value box. 224 Speaker B\\nSo what should we put in the value box of chicken? 225 Speaker A\\nIf it's, like, heavily on focusing on chicken? 226 Speaker B\\nYeah, yeah, yeah. Spotlight is on this, like, this one. 227 Speaker A\\nNuggets. What else do you have? Oh, they have just the cutlet. Maybe a piece of it. 228 Speaker B\\nOh, just the patty? 229 Speaker A\\nYeah. 230 Speaker B\\nAh, okay, that's good. 231 Speaker A\\nI add on that on the meal. 232 Speaker B\\nOh, that's actually a very good idea that you've shared. Just have this McCrispy chicken as a patty, somewhat similar to the thai piece, but the thigh piece has a small bone in it. Right? 233 Speaker A\\nYeah. 234 Speaker B\\nOkay, so what other forms could this McCris be? Chicken, take one is just one. Is this thai patty just a patty. The other is. Could it come as tenders strips? 235 Speaker A\\nIt could be. You mean, like. 236 Speaker B\\nYeah, with this marination and with this external tender. 237 Speaker A\\nBecause they have this party box. 238 Speaker B\\nRight. 239 Speaker A\\nSo they have MC wings and mcnuggets. If this has a new party box that includes that with, like, tenders. 240 Speaker B\\nAh, it could go in the party box. The tenders. 241 Speaker A\\nSometimes me and my friends, we do order. We don't go for meals. We just go for the box. Like, I feel like munching or something. That is something that we go do as well. Like, if, like, if we do not order KFC, we ordered box from McDonald's, that would be an option. Good option. 242 Speaker B\\nSo if it's tenders, should it actually be the breast meat, the chicken tender breast tender meat? Or can it be thigh meat? 243 Speaker A\\nI think it doesn't matter if it's utilizing this new marination, if it's the marination. So it doesn't matter. Just like nuggets as well. So marinations. 244 Speaker B\\nBut should it be whole meat, or can it also be like, minced meat? Like, should it be made from whole meat, or can it be like, minced meat? Like nuggets, people tell me are made with whole meat. 245 Speaker A\\nBecause when you mince it nuggets, then it's not so much focusing on me, it's more on the batter. Like, you know, even nuggets, they have new ones, like the spicy McDonalds and everything. So you're focusing on the marination, the crust. Only meat doesn't really get the essence of that. 246 Speaker B\\nSo what does whole meat signify to you? Like, you consider this whole meat. Right? Like, it's. So what does it convey to you? 247 Speaker A\\nDoes it convey. 248 Speaker B\\nYeah. Versus minced meat versus markets. 249 Speaker A\\nWhy this. 250 Speaker B\\nYeah, why do you like it more filling. Any other things you associate with the whole meat? 251 Speaker A\\nMore time to savour the taste. 252 Speaker B\\nMore time to savor the taste compared. 253 Speaker A\\nTo just like a McNuggets, like a mincemeat. One mouth. For me, I'm quite a big mouth, so one mouth. I can't really have time to savor the taste. So I like, you know, the whole point of eating is to have the second bite, the subsequent bite. Yeah. 254 Speaker B\\nSo you can enjoy longer. So then when would you eat McCrispy chicken?\", mimetype='text/plain', start_char_idx=22727, end_char_idx=26196, text_template='{metadata_str}\\n\\n{content}', metadata_template='{key}: {value}', metadata_seperator='\\n'), score=0.6581635475158691),\n",
              "  NodeWithScore(node=TextNode(id_='node_9', embedding=None, metadata={'file_path': 'Datasets/chicken_data/v2t_SpeakerResponse_cleaned.xlsx', 'file_name': 'v2t_SpeakerResponse_cleaned.xlsx', 'file_type': 'application/vnd.openxmlformats-officedocument.spreadsheetml.sheet', 'file_size': 37698, 'creation_date': '2024-10-27', 'last_modified_date': '2024-10-27', 'context': \"This chunk is a discussion about the consumer's preference for whole meat versus minced meat in chicken products, specifically in relation to the McCrispy chicken. The discussion then moves on to explore the potential for the McCrispy batter and marinade to be used on other chicken products, such as tenders and McChicken. \\n\\nKeywords: McCrispy, whole meat, minced meat, tenders, McChicken, batter, marinade, chicken products \\n\", 'retrieval_score': 0.6809965377998999}, excluded_embed_metadata_keys=['file_name', 'file_type', 'file_size', 'creation_date', 'last_modified_date', 'last_accessed_date'], excluded_llm_metadata_keys=['file_name', 'file_type', 'file_size', 'creation_date', 'last_modified_date', 'last_accessed_date'], relationships={<NodeRelationship.SOURCE: '1'>: RelatedNodeInfo(node_id='ac5cac7f-c5fe-4bbe-b364-e944ea5ac181', node_type=<ObjectType.DOCUMENT: '4'>, metadata={'file_path': 'Datasets/chicken_data/v2t_SpeakerResponse_cleaned.xlsx', 'file_name': 'v2t_SpeakerResponse_cleaned.xlsx', 'file_type': 'application/vnd.openxmlformats-officedocument.spreadsheetml.sheet', 'file_size': 37698, 'creation_date': '2024-10-27', 'last_modified_date': '2024-10-27'}, hash='49b0f8d7e808a3295e2b19347641c7b02aad7da69de39aee476743fe11637308'), <NodeRelationship.PREVIOUS: '2'>: RelatedNodeInfo(node_id='075c4a72-b25b-48d9-aad6-8f0a81020017', node_type=<ObjectType.TEXT: '1'>, metadata={'file_path': 'Datasets/chicken_data/v2t_SpeakerResponse_cleaned.xlsx', 'file_name': 'v2t_SpeakerResponse_cleaned.xlsx', 'file_type': 'application/vnd.openxmlformats-officedocument.spreadsheetml.sheet', 'file_size': 37698, 'creation_date': '2024-10-27', 'last_modified_date': '2024-10-27'}, hash='278a07ae8fef32dc69d860feb0ab05f259c69b186412e958a3352295a71f0763'), <NodeRelationship.NEXT: '3'>: RelatedNodeInfo(node_id='314a8b9d-d77d-4bcb-b592-c3e53d9464e2', node_type=<ObjectType.TEXT: '1'>, metadata={}, hash='9db84111628322c30376b523a928cab678d7df4a2a92e8578a97f40dc3c0bf63')}, text=\"This chunk is a discussion about the consumer's preference for whole meat versus minced meat in chicken products, specifically in relation to the McCrispy chicken. The discussion then moves on to explore the potential for the McCrispy batter and marinade to be used on other chicken products, such as tenders and McChicken. \\n\\nKeywords: McCrispy, whole meat, minced meat, tenders, McChicken, batter, marinade, chicken products \\n\\nSo what does it convey to you? 247 Speaker A\\nDoes it convey. 248 Speaker B\\nYeah. Versus minced meat versus markets. 249 Speaker A\\nWhy this. 250 Speaker B\\nYeah, why do you like it more filling. Any other things you associate with the whole meat? 251 Speaker A\\nMore time to savour the taste. 252 Speaker B\\nMore time to savor the taste compared. 253 Speaker A\\nTo just like a McNuggets, like a mincemeat. One mouth. For me, I'm quite a big mouth, so one mouth. I can't really have time to savor the taste. So I like, you know, the whole point of eating is to have the second bite, the subsequent bite. Yeah. 254 Speaker B\\nSo you can enjoy longer. So then when would you eat McCrispy chicken? Would it be when you are having a leisurely meal, you want to come relax and spend half an hour enjoying a meal? Or would it be like, okay, in and out quick? I'm busy after to get many things done, I just quickly get my crispy and eat it. So what's the scenario like? 255 Speaker A\\nMy crispy would not be in and out quick because when it comes piping hot, you can't eat past as well. Yeah, you need tiger cinnamon too. 256 Speaker B\\nSo what's the typical McCrispy meal time? Like half an hour at the minimum or. Yeah, half an hour versus a McSpicy burger. When you come to eat McSpicy, do you come with the intention of, okay, 30 minutes? I'm not gonna, you know, do anything else. Just eat. Or is it like, quick, quick, quick? 257 Speaker A\\nSame as six takes time. It's not like if I'm prepping ankle from McDonald's will be just like a simple McChicken fillet in combo down, easy to consume. So this will take time? 258 Speaker B\\nYeah, go ahead, please try whatever you like. To eat. So if this McCrispy were to become, like, a tender, or maybe could it become like a McQueen? Could the McCrispy batter marinade work for McQueen? 259 Speaker A\\nIt could be, but it definitely will not taste the same. 260 Speaker B\\nWould it replace the current McQueen, or would there be room for, like, two types of mcQueens? Crispy McQueen and original McQueen? 261 Speaker A\\nI don't think it will replace. I think it's good to have more options. 262 Speaker B\\nSo crispy mcWings and original mcwings. Okay. What else could it become? You mentioned this patty. So would the patty work well in a, like, have you tried the other products, like the wrap, the grilled chicken wrap? 263 Speaker A\\nBig Lee? I did eat before, but it's very. 264 Speaker B\\nBig. 265 Speaker C\\nMemory of it. 266 Speaker B\\nGood grilled chicken. Bee McCaspy, maybe. 267 Speaker A\\nBut this is meaning fried. 268 Speaker B\\nSo McCrispy needs to be fried to be crispy. To be McCrispy. Otherwise not genuine. Yeah. Actually that's very helpful for us to know. Like, like, when, when is it. When is it going to be genuine? Genuinely like my crispy? What can change and what cannot change? Can the meat change? Like you said, it's okay to use breast meat. 269 Speaker A\\nYeah, but I think most fast food, I usually drop it. 270 Speaker B\\nOkay. But minced meat. No, it has to be like whole meat. 271 Speaker A\\nYeah. 272 Speaker B\\nYeah, yeah, yeah. Okay. And fried. Not going home. 273 Speaker A\\nYes. 274 Speaker B\\nOkay. So what about the meat itself? Can it be any other meat than chicken? Canned fish, pork. 275 Speaker A\\nFish. 276 Speaker B\\nStrange. 277 Speaker A\\nI never really seen them exploring their filet o fish. 278 Speaker B\\nYeah, but we can be creative. Do you think that, do you think that the crispy could go to other types of meat or should it only be chicken?\", mimetype='text/plain', start_char_idx=25509, end_char_idx=29018, text_template='{metadata_str}\\n\\n{content}', metadata_template='{key}: {value}', metadata_seperator='\\n'), score=0.6245746612548828),\n",
              "  NodeWithScore(node=TextNode(id_='node_9', embedding=None, metadata={'file_path': 'Datasets/chicken_data/v2t_SpeakerResponse_cleaned.xlsx', 'file_name': 'v2t_SpeakerResponse_cleaned.xlsx', 'file_type': 'application/vnd.openxmlformats-officedocument.spreadsheetml.sheet', 'file_size': 37698, 'creation_date': '2024-10-27', 'last_modified_date': '2024-10-27', 'context': \"This chunk is a discussion about the consumer's preference for whole meat versus minced meat in chicken products, specifically in relation to the McCrispy chicken. The discussion then moves on to explore the potential for the McCrispy batter and marinade to be used on other chicken products, such as tenders and McChicken. \\n\\nKeywords: McCrispy, whole meat, minced meat, tenders, McChicken, batter, marinade, chicken products \\n\", 'retrieval_score': 2.6802570819854736}, excluded_embed_metadata_keys=['file_name', 'file_type', 'file_size', 'creation_date', 'last_modified_date', 'last_accessed_date'], excluded_llm_metadata_keys=['file_name', 'file_type', 'file_size', 'creation_date', 'last_modified_date', 'last_accessed_date'], relationships={<NodeRelationship.SOURCE: '1'>: RelatedNodeInfo(node_id='ac5cac7f-c5fe-4bbe-b364-e944ea5ac181', node_type=<ObjectType.DOCUMENT: '4'>, metadata={'file_path': 'Datasets/chicken_data/v2t_SpeakerResponse_cleaned.xlsx', 'file_name': 'v2t_SpeakerResponse_cleaned.xlsx', 'file_type': 'application/vnd.openxmlformats-officedocument.spreadsheetml.sheet', 'file_size': 37698, 'creation_date': '2024-10-27', 'last_modified_date': '2024-10-27'}, hash='49b0f8d7e808a3295e2b19347641c7b02aad7da69de39aee476743fe11637308'), <NodeRelationship.PREVIOUS: '2'>: RelatedNodeInfo(node_id='075c4a72-b25b-48d9-aad6-8f0a81020017', node_type=<ObjectType.TEXT: '1'>, metadata={'file_path': 'Datasets/chicken_data/v2t_SpeakerResponse_cleaned.xlsx', 'file_name': 'v2t_SpeakerResponse_cleaned.xlsx', 'file_type': 'application/vnd.openxmlformats-officedocument.spreadsheetml.sheet', 'file_size': 37698, 'creation_date': '2024-10-27', 'last_modified_date': '2024-10-27'}, hash='278a07ae8fef32dc69d860feb0ab05f259c69b186412e958a3352295a71f0763'), <NodeRelationship.NEXT: '3'>: RelatedNodeInfo(node_id='314a8b9d-d77d-4bcb-b592-c3e53d9464e2', node_type=<ObjectType.TEXT: '1'>, metadata={}, hash='9db84111628322c30376b523a928cab678d7df4a2a92e8578a97f40dc3c0bf63')}, text=\"This chunk is a discussion about the consumer's preference for whole meat versus minced meat in chicken products, specifically in relation to the McCrispy chicken. The discussion then moves on to explore the potential for the McCrispy batter and marinade to be used on other chicken products, such as tenders and McChicken. \\n\\nKeywords: McCrispy, whole meat, minced meat, tenders, McChicken, batter, marinade, chicken products \\n\\nSo what does it convey to you? 247 Speaker A\\nDoes it convey. 248 Speaker B\\nYeah. Versus minced meat versus markets. 249 Speaker A\\nWhy this. 250 Speaker B\\nYeah, why do you like it more filling. Any other things you associate with the whole meat? 251 Speaker A\\nMore time to savour the taste. 252 Speaker B\\nMore time to savor the taste compared. 253 Speaker A\\nTo just like a McNuggets, like a mincemeat. One mouth. For me, I'm quite a big mouth, so one mouth. I can't really have time to savor the taste. So I like, you know, the whole point of eating is to have the second bite, the subsequent bite. Yeah. 254 Speaker B\\nSo you can enjoy longer. So then when would you eat McCrispy chicken? Would it be when you are having a leisurely meal, you want to come relax and spend half an hour enjoying a meal? Or would it be like, okay, in and out quick? I'm busy after to get many things done, I just quickly get my crispy and eat it. So what's the scenario like? 255 Speaker A\\nMy crispy would not be in and out quick because when it comes piping hot, you can't eat past as well. Yeah, you need tiger cinnamon too. 256 Speaker B\\nSo what's the typical McCrispy meal time? Like half an hour at the minimum or. Yeah, half an hour versus a McSpicy burger. When you come to eat McSpicy, do you come with the intention of, okay, 30 minutes? I'm not gonna, you know, do anything else. Just eat. Or is it like, quick, quick, quick? 257 Speaker A\\nSame as six takes time. It's not like if I'm prepping ankle from McDonald's will be just like a simple McChicken fillet in combo down, easy to consume. So this will take time? 258 Speaker B\\nYeah, go ahead, please try whatever you like. To eat. So if this McCrispy were to become, like, a tender, or maybe could it become like a McQueen? Could the McCrispy batter marinade work for McQueen? 259 Speaker A\\nIt could be, but it definitely will not taste the same. 260 Speaker B\\nWould it replace the current McQueen, or would there be room for, like, two types of mcQueens? Crispy McQueen and original McQueen? 261 Speaker A\\nI don't think it will replace. I think it's good to have more options. 262 Speaker B\\nSo crispy mcWings and original mcwings. Okay. What else could it become? You mentioned this patty. So would the patty work well in a, like, have you tried the other products, like the wrap, the grilled chicken wrap? 263 Speaker A\\nBig Lee? I did eat before, but it's very. 264 Speaker B\\nBig. 265 Speaker C\\nMemory of it. 266 Speaker B\\nGood grilled chicken. Bee McCaspy, maybe. 267 Speaker A\\nBut this is meaning fried. 268 Speaker B\\nSo McCrispy needs to be fried to be crispy. To be McCrispy. Otherwise not genuine. Yeah. Actually that's very helpful for us to know. Like, like, when, when is it. When is it going to be genuine? Genuinely like my crispy? What can change and what cannot change? Can the meat change? Like you said, it's okay to use breast meat. 269 Speaker A\\nYeah, but I think most fast food, I usually drop it. 270 Speaker B\\nOkay. But minced meat. No, it has to be like whole meat. 271 Speaker A\\nYeah. 272 Speaker B\\nYeah, yeah, yeah. Okay. And fried. Not going home. 273 Speaker A\\nYes. 274 Speaker B\\nOkay. So what about the meat itself? Can it be any other meat than chicken? Canned fish, pork. 275 Speaker A\\nFish. 276 Speaker B\\nStrange. 277 Speaker A\\nI never really seen them exploring their filet o fish. 278 Speaker B\\nYeah, but we can be creative. Do you think that, do you think that the crispy could go to other types of meat or should it only be chicken?\", mimetype='text/plain', start_char_idx=25509, end_char_idx=29018, text_template='{metadata_str}\\n\\n{content}', metadata_template='{key}: {value}', metadata_seperator='\\n'), score=0.6245746612548828),\n",
              "  NodeWithScore(node=TextNode(id_='node_5', embedding=None, metadata={'file_path': 'Datasets/chicken_data/v2t_SpeakerResponse_cleaned.xlsx', 'file_name': 'v2t_SpeakerResponse_cleaned.xlsx', 'file_type': 'application/vnd.openxmlformats-officedocument.spreadsheetml.sheet', 'file_size': 37698, 'creation_date': '2024-10-27', 'last_modified_date': '2024-10-27', 'context': \"Context: This chunk is a conversation between two people, one of whom is a marketing researcher, about the new McCrispy chicken product at McDonald's. The researcher is asking the participant to compare the McCrispy to the participant's usual order, the McSpicy, and to rate the McCrispy on a scale of 1-10. The participant also discusses their preference for thigh meat over drumstick and their ability to distinguish the McCrispy from KFC chicken.\\n\\nKeywords: McCrispy, McSpicy, chicken, McDonald's, KFC, thigh, drumstick, rating, taste, flavor, marination, fragrance, aftertaste, preference, quality, ideal, comparison, new, innovative \\n\", 'retrieval_score': 0.6722506424760075}, excluded_embed_metadata_keys=['file_name', 'file_type', 'file_size', 'creation_date', 'last_modified_date', 'last_accessed_date'], excluded_llm_metadata_keys=['file_name', 'file_type', 'file_size', 'creation_date', 'last_modified_date', 'last_accessed_date'], relationships={<NodeRelationship.SOURCE: '1'>: RelatedNodeInfo(node_id='ac5cac7f-c5fe-4bbe-b364-e944ea5ac181', node_type=<ObjectType.DOCUMENT: '4'>, metadata={'file_path': 'Datasets/chicken_data/v2t_SpeakerResponse_cleaned.xlsx', 'file_name': 'v2t_SpeakerResponse_cleaned.xlsx', 'file_type': 'application/vnd.openxmlformats-officedocument.spreadsheetml.sheet', 'file_size': 37698, 'creation_date': '2024-10-27', 'last_modified_date': '2024-10-27'}, hash='49b0f8d7e808a3295e2b19347641c7b02aad7da69de39aee476743fe11637308'), <NodeRelationship.PREVIOUS: '2'>: RelatedNodeInfo(node_id='ec64d120-1e29-412c-aa1a-228337e26f49', node_type=<ObjectType.TEXT: '1'>, metadata={'file_path': 'Datasets/chicken_data/v2t_SpeakerResponse_cleaned.xlsx', 'file_name': 'v2t_SpeakerResponse_cleaned.xlsx', 'file_type': 'application/vnd.openxmlformats-officedocument.spreadsheetml.sheet', 'file_size': 37698, 'creation_date': '2024-10-27', 'last_modified_date': '2024-10-27'}, hash='54330aa1b9c61958ce962edc6901f21f8821b336dfbda785bd833a3b71691055'), <NodeRelationship.NEXT: '3'>: RelatedNodeInfo(node_id='c4cea5d2-4ca1-42d2-8e43-e8fcc9f7d20d', node_type=<ObjectType.TEXT: '1'>, metadata={}, hash='2529ae37e70dee496150703c8c4ed980110998bd3ecf8a47b5b264ba864aaf45')}, text=\"Context: This chunk is a conversation between two people, one of whom is a marketing researcher, about the new McCrispy chicken product at McDonald's. The researcher is asking the participant to compare the McCrispy to the participant's usual order, the McSpicy, and to rate the McCrispy on a scale of 1-10. The participant also discusses their preference for thigh meat over drumstick and their ability to distinguish the McCrispy from KFC chicken.\\n\\nKeywords: McCrispy, McSpicy, chicken, McDonald's, KFC, thigh, drumstick, rating, taste, flavor, marination, fragrance, aftertaste, preference, quality, ideal, comparison, new, innovative \\n\\n140 Speaker B\\nDifferent from what? 141 Speaker A\\nThe usual one I order is the Mac. The spicy one. 142 Speaker B\\nSpicy one. Okay. Okay. 143 Speaker A\\nSo the spicy one, the taste would taste and smell similar to my spicy. 144 Speaker B\\nAh, the spicy one. The batti. The spicy batti. Got it. Got it. 145 Speaker A\\nSo this one is, I would say, totally different. It's a bit different. 146 Speaker B\\nA bit different. Okay. Now why don't you try. Take a bite. What's the taste like? How does it taste? How are you feeling? 147 Speaker A\\nIt's easy to consume and it's not spicy. And it's the fragrance. 148 Speaker B\\nThere's still some fragrance. How would you describe the flavor so much? Like. 149 Speaker A\\nIt'S a bit of. Not so much of spices, but yeah. But the aftertaste is quite pleasant. 150 Speaker B\\nPleasant. And visually like the meat inside. What do you think about the meat? The quality, etcetera? 151 Speaker A\\nBecause my preference usually is not drumstick, but usually it's a Thai, but it's good enough to have feedback. 152 Speaker B\\nWhy do you like the Thai more than the drumstick? 153 Speaker A\\nI always feel it's more meat. 154 Speaker B\\nMine has more meat. This one is more bomb. 155 Speaker A\\nLike. If I ordered chicken rice, I wouldn't order chopstick. 156 Speaker B\\nOkay. 157 Speaker A\\nYeah. 158 Speaker B\\nThen would you like an option where you can get just the thigh as the side? Be able to pick the part? 159 Speaker A\\nIf there is an option, I would choose. 160 Speaker B\\nOkay. Okay. Can you tell this is McCrispy from McDonald's? If you didn't see it with the wrapping, if it was in somebody's potluck and already opened and placed in a plate, would you know if it's McDonald's and not KFC? 161 Speaker A\\nSo maybe I can tell. 162 Speaker B\\nYou can tell, but when you taste it, also, can you tell if it's my first time? No. No. Now that you know, I mean, like, now, would you be able to tell? Yeah, you know? Okay. You can recognize it's McCrispy. So what is giving it away? How do you know it's McCrispy and not KFC? 163 Speaker A\\nEven though it's not spicy, but I think the base of the marination is quite similar to the ingredients. I might not know the ingredients, but this is taste. You can tell it's okay. Okay. 164 Speaker B\\nSame. From the same kitchen? Same kitchen. Okay. Okay. On a scale of one to ten, how good is this crispy? 165 Speaker A\\nEight, I guess. 166 Speaker B\\nEight. Is there an ideal that you like? That's a ten. Would you give ten to any? 167 Speaker A\\nIf it's a Thai, there will be ten. 168 Speaker B\\nIt's a Thai. This is ten. Okay. Not KFC. Is there another plant and another passport that you have to give a ten? 169 Speaker A\\nIf I'm eating this now, but I think I'm KFC. 170 Speaker B\\nNo, my question is, if you have, like, an ideal. Your ideal chicken, which one is your ideal chicken? One that you like most, like KFC product or, you know, any other classmates. So would you give a ten for that? 171 Speaker A\\nYeah. 172 Speaker B\\nYeah. So this one, in comparison is how much? 173 Speaker A\\nSlightly short? Four. But. 174 Speaker B\\nSo what's like. What's it. Where is it? Yeah, yeah, yeah. 175 Speaker A\\nI think I still prefer it spicy. Yeah, but this is something new. That's why the rating is quite high. 176 Speaker B\\nOkay. 177 Speaker A\\nI'm someone that don't mind trying new meat as long as chicken, because chicken.\", mimetype='text/plain', start_char_idx=14298, end_char_idx=17671, text_template='{metadata_str}\\n\\n{content}', metadata_template='{key}: {value}', metadata_seperator='\\n'), score=0.6192310452461243)],\n",
              " 'chunks formatted for answering': \"use this context for the text excerpt : This chunk is a discussion about the consumer's preference for whole meat versus minced meat in chicken products, specifically in relation to the McCrispy chicken. The discussion then moves on to explore the potential for the McCrispy batter and marinade to be used on other chicken products, such as tenders and McChicken. \\n\\nKeywords: McCrispy, whole meat, minced meat, tenders, McChicken, batter, marinade, chicken products \\n\\ntext excerpt : This chunk is a discussion about the consumer's preference for whole meat versus minced meat in chicken products, specifically in relation to the McCrispy chicken. The discussion then moves on to explore the potential for the McCrispy batter and marinade to be used on other chicken products, such as tenders and McChicken. \\n\\nKeywords: McCrispy, whole meat, minced meat, tenders, McChicken, batter, marinade, chicken products \\n\\nSo what does it convey to you? 247 Speaker A\\nDoes it convey. 248 Speaker B\\nYeah. Versus minced meat versus markets. 249 Speaker A\\nWhy this. 250 Speaker B\\nYeah, why do you like it more filling. Any other things you associate with the whole meat? 251 Speaker A\\nMore time to savour the taste. 252 Speaker B\\nMore time to savor the taste compared. 253 Speaker A\\nTo just like a McNuggets, like a mincemeat. One mouth. For me, I'm quite a big mouth, so one mouth. I can't really have time to savor the taste. So I like, you know, the whole point of eating is to have the second bite, the subsequent bite. Yeah. 254 Speaker B\\nSo you can enjoy longer. So then when would you eat McCrispy chicken? Would it be when you are having a leisurely meal, you want to come relax and spend half an hour enjoying a meal? Or would it be like, okay, in and out quick? I'm busy after to get many things done, I just quickly get my crispy and eat it. So what's the scenario like? 255 Speaker A\\nMy crispy would not be in and out quick because when it comes piping hot, you can't eat past as well. Yeah, you need tiger cinnamon too. 256 Speaker B\\nSo what's the typical McCrispy meal time? Like half an hour at the minimum or. Yeah, half an hour versus a McSpicy burger. When you come to eat McSpicy, do you come with the intention of, okay, 30 minutes? I'm not gonna, you know, do anything else. Just eat. Or is it like, quick, quick, quick? 257 Speaker A\\nSame as six takes time. It's not like if I'm prepping ankle from McDonald's will be just like a simple McChicken fillet in combo down, easy to consume. So this will take time? 258 Speaker B\\nYeah, go ahead, please try whatever you like. To eat. So if this McCrispy were to become, like, a tender, or maybe could it become like a McQueen? Could the McCrispy batter marinade work for McQueen? 259 Speaker A\\nIt could be, but it definitely will not taste the same. 260 Speaker B\\nWould it replace the current McQueen, or would there be room for, like, two types of mcQueens? Crispy McQueen and original McQueen? 261 Speaker A\\nI don't think it will replace. I think it's good to have more options. 262 Speaker B\\nSo crispy mcWings and original mcwings. Okay. What else could it become? You mentioned this patty. So would the patty work well in a, like, have you tried the other products, like the wrap, the grilled chicken wrap? 263 Speaker A\\nBig Lee? I did eat before, but it's very. 264 Speaker B\\nBig. 265 Speaker C\\nMemory of it. 266 Speaker B\\nGood grilled chicken. Bee McCaspy, maybe. 267 Speaker A\\nBut this is meaning fried. 268 Speaker B\\nSo McCrispy needs to be fried to be crispy. To be McCrispy. Otherwise not genuine. Yeah. Actually that's very helpful for us to know. Like, like, when, when is it. When is it going to be genuine? Genuinely like my crispy? What can change and what cannot change? Can the meat change? Like you said, it's okay to use breast meat. 269 Speaker A\\nYeah, but I think most fast food, I usually drop it. 270 Speaker B\\nOkay. But minced meat. No, it has to be like whole meat. 271 Speaker A\\nYeah. 272 Speaker B\\nYeah, yeah, yeah. Okay. And fried. Not going home. 273 Speaker A\\nYes. 274 Speaker B\\nOkay. So what about the meat itself? Can it be any other meat than chicken? Canned fish, pork. 275 Speaker A\\nFish. 276 Speaker B\\nStrange. 277 Speaker A\\nI never really seen them exploring their filet o fish. 278 Speaker B\\nYeah, but we can be creative. Do you think that, do you think that the crispy could go to other types of meat or should it only be chicken?\\n\\nuse this context for the text excerpt : This chunk is a discussion between the interviewer and interviewee about what could make the McCrispy chicken more appealing to the interviewee. The interviewee suggests a value box with McCrispy chicken as a patty, tenders, and nuggets. They also discuss the importance of whole meat versus minced meat in chicken products. \\n\\nKeywords: McCrispy, chicken, value box, patty, tenders, nuggets, whole meat, minced meat \\n\\ntext excerpt : This chunk is a discussion between the interviewer and interviewee about what could make the McCrispy chicken more appealing to the interviewee. The interviewee suggests a value box with McCrispy chicken as a patty, tenders, and nuggets. They also discuss the importance of whole meat versus minced meat in chicken products. \\n\\nKeywords: McCrispy, chicken, value box, patty, tenders, nuggets, whole meat, minced meat \\n\\n220 Speaker B\\nYou don't put chilli? 221 Speaker A\\nYeah. Especially with chicken, its best origin. 222 Speaker B\\nOh, really? Okay. Yeah. So then what could make it really very compelling for you to come to McDonald's to eat McFee? 223 Speaker A\\nI think if it's gonna make it like a meal, like a main course for people to come here and eat it, I think the idea, like a value box. 224 Speaker B\\nSo what should we put in the value box of chicken? 225 Speaker A\\nIf it's, like, heavily on focusing on chicken? 226 Speaker B\\nYeah, yeah, yeah. Spotlight is on this, like, this one. 227 Speaker A\\nNuggets. What else do you have? Oh, they have just the cutlet. Maybe a piece of it. 228 Speaker B\\nOh, just the patty? 229 Speaker A\\nYeah. 230 Speaker B\\nAh, okay, that's good. 231 Speaker A\\nI add on that on the meal. 232 Speaker B\\nOh, that's actually a very good idea that you've shared. Just have this McCrispy chicken as a patty, somewhat similar to the thai piece, but the thigh piece has a small bone in it. Right? 233 Speaker A\\nYeah. 234 Speaker B\\nOkay, so what other forms could this McCris be? Chicken, take one is just one. Is this thai patty just a patty. The other is. Could it come as tenders strips? 235 Speaker A\\nIt could be. You mean, like. 236 Speaker B\\nYeah, with this marination and with this external tender. 237 Speaker A\\nBecause they have this party box. 238 Speaker B\\nRight. 239 Speaker A\\nSo they have MC wings and mcnuggets. If this has a new party box that includes that with, like, tenders. 240 Speaker B\\nAh, it could go in the party box. The tenders. 241 Speaker A\\nSometimes me and my friends, we do order. We don't go for meals. We just go for the box. Like, I feel like munching or something. That is something that we go do as well. Like, if, like, if we do not order KFC, we ordered box from McDonald's, that would be an option. Good option. 242 Speaker B\\nSo if it's tenders, should it actually be the breast meat, the chicken tender breast tender meat? Or can it be thigh meat? 243 Speaker A\\nI think it doesn't matter if it's utilizing this new marination, if it's the marination. So it doesn't matter. Just like nuggets as well. So marinations. 244 Speaker B\\nBut should it be whole meat, or can it also be like, minced meat? Like, should it be made from whole meat, or can it be like, minced meat? Like nuggets, people tell me are made with whole meat. 245 Speaker A\\nBecause when you mince it nuggets, then it's not so much focusing on me, it's more on the batter. Like, you know, even nuggets, they have new ones, like the spicy McDonalds and everything. So you're focusing on the marination, the crust. Only meat doesn't really get the essence of that. 246 Speaker B\\nSo what does whole meat signify to you? Like, you consider this whole meat. Right? Like, it's. So what does it convey to you? 247 Speaker A\\nDoes it convey. 248 Speaker B\\nYeah. Versus minced meat versus markets. 249 Speaker A\\nWhy this. 250 Speaker B\\nYeah, why do you like it more filling. Any other things you associate with the whole meat? 251 Speaker A\\nMore time to savour the taste. 252 Speaker B\\nMore time to savor the taste compared. 253 Speaker A\\nTo just like a McNuggets, like a mincemeat. One mouth. For me, I'm quite a big mouth, so one mouth. I can't really have time to savor the taste. So I like, you know, the whole point of eating is to have the second bite, the subsequent bite. Yeah. 254 Speaker B\\nSo you can enjoy longer. So then when would you eat McCrispy chicken?\\n\\nuse this context for the text excerpt : Context: This chunk is a conversation between two people, one of whom is a marketing researcher, about the new McCrispy chicken product at McDonald's. The researcher is asking the participant to compare the McCrispy to the participant's usual order, the McSpicy, and to rate the McCrispy on a scale of 1-10. The participant also discusses their preference for thigh meat over drumstick and their ability to distinguish the McCrispy from KFC chicken.\\n\\nKeywords: McCrispy, McSpicy, chicken, McDonald's, KFC, thigh, drumstick, rating, taste, flavor, marination, fragrance, aftertaste, preference, quality, ideal, comparison, new, innovative \\n\\ntext excerpt : Context: This chunk is a conversation between two people, one of whom is a marketing researcher, about the new McCrispy chicken product at McDonald's. The researcher is asking the participant to compare the McCrispy to the participant's usual order, the McSpicy, and to rate the McCrispy on a scale of 1-10. The participant also discusses their preference for thigh meat over drumstick and their ability to distinguish the McCrispy from KFC chicken.\\n\\nKeywords: McCrispy, McSpicy, chicken, McDonald's, KFC, thigh, drumstick, rating, taste, flavor, marination, fragrance, aftertaste, preference, quality, ideal, comparison, new, innovative \\n\\n140 Speaker B\\nDifferent from what? 141 Speaker A\\nThe usual one I order is the Mac. The spicy one. 142 Speaker B\\nSpicy one. Okay. Okay. 143 Speaker A\\nSo the spicy one, the taste would taste and smell similar to my spicy. 144 Speaker B\\nAh, the spicy one. The batti. The spicy batti. Got it. Got it. 145 Speaker A\\nSo this one is, I would say, totally different. It's a bit different. 146 Speaker B\\nA bit different. Okay. Now why don't you try. Take a bite. What's the taste like? How does it taste? How are you feeling? 147 Speaker A\\nIt's easy to consume and it's not spicy. And it's the fragrance. 148 Speaker B\\nThere's still some fragrance. How would you describe the flavor so much? Like. 149 Speaker A\\nIt'S a bit of. Not so much of spices, but yeah. But the aftertaste is quite pleasant. 150 Speaker B\\nPleasant. And visually like the meat inside. What do you think about the meat? The quality, etcetera? 151 Speaker A\\nBecause my preference usually is not drumstick, but usually it's a Thai, but it's good enough to have feedback. 152 Speaker B\\nWhy do you like the Thai more than the drumstick? 153 Speaker A\\nI always feel it's more meat. 154 Speaker B\\nMine has more meat. This one is more bomb. 155 Speaker A\\nLike. If I ordered chicken rice, I wouldn't order chopstick. 156 Speaker B\\nOkay. 157 Speaker A\\nYeah. 158 Speaker B\\nThen would you like an option where you can get just the thigh as the side? Be able to pick the part? 159 Speaker A\\nIf there is an option, I would choose. 160 Speaker B\\nOkay. Okay. Can you tell this is McCrispy from McDonald's? If you didn't see it with the wrapping, if it was in somebody's potluck and already opened and placed in a plate, would you know if it's McDonald's and not KFC? 161 Speaker A\\nSo maybe I can tell. 162 Speaker B\\nYou can tell, but when you taste it, also, can you tell if it's my first time? No. No. Now that you know, I mean, like, now, would you be able to tell? Yeah, you know? Okay. You can recognize it's McCrispy. So what is giving it away? How do you know it's McCrispy and not KFC? 163 Speaker A\\nEven though it's not spicy, but I think the base of the marination is quite similar to the ingredients. I might not know the ingredients, but this is taste. You can tell it's okay. Okay. 164 Speaker B\\nSame. From the same kitchen? Same kitchen. Okay. Okay. On a scale of one to ten, how good is this crispy? 165 Speaker A\\nEight, I guess. 166 Speaker B\\nEight. Is there an ideal that you like? That's a ten. Would you give ten to any? 167 Speaker A\\nIf it's a Thai, there will be ten. 168 Speaker B\\nIt's a Thai. This is ten. Okay. Not KFC. Is there another plant and another passport that you have to give a ten? 169 Speaker A\\nIf I'm eating this now, but I think I'm KFC. 170 Speaker B\\nNo, my question is, if you have, like, an ideal. Your ideal chicken, which one is your ideal chicken? One that you like most, like KFC product or, you know, any other classmates. So would you give a ten for that? 171 Speaker A\\nYeah. 172 Speaker B\\nYeah. So this one, in comparison is how much? 173 Speaker A\\nSlightly short? Four. But. 174 Speaker B\\nSo what's like. What's it. Where is it? Yeah, yeah, yeah. 175 Speaker A\\nI think I still prefer it spicy. Yeah, but this is something new. That's why the rating is quite high. 176 Speaker B\\nOkay. 177 Speaker A\\nI'm someone that don't mind trying new meat as long as chicken, because chicken.\\n\",\n",
              " 'llm_response': 'Based on the provided excerpts, there is no direct comparison between bone-in meat and thigh/thai meat preferences. However, the interviewee does express a preference for thigh meat over drumstick, stating:\\n\\n\"Because my preference usually is not drumstick, but usually it\\'s a Thai, but it\\'s good enough to have feedback.\"\\n\\nThe interviewee further explains their preference for thigh meat by saying:\\n\\n\"I always feel it\\'s more meat. Like. If I ordered chicken rice, I wouldn\\'t order chopstick.\"\\n\\nWhen asked if they would like an option to choose just the thigh part, the interviewee confirms:\\n\\n\"If there is an option, I would choose.\"\\n\\nThis indicates a clear preference for thigh meat over bone-in meat like drumsticks, primarily due to the perception that thigh meat offers more meat content.'}"
            ]
          },
          "execution_count": 29,
          "metadata": {},
          "output_type": "execute_result"
        }
      ],
      "source": [
        "retrieve_relevant_chunks_and_answer_query(\n",
        "                                            query=\"Compare the opinions regarding liking Bone-in meat versus thigh/thai meat\",\n",
        "                                            # query = \"What is the most uncommon use of acetoaminophen?\",\n",
        "                                            llm=rag_llm,\n",
        "                                            # retriever=contextual_embedding_bm25_retriever,\n",
        "                                            # retriever=contextual_embedding_retriever,\n",
        "                                            retriever=contextual_embedding_bm25_retriever_rerank,\n",
        "                                            answer_with_context=True)"
      ]
    },
    {
      "cell_type": "code",
      "execution_count": 31,
      "metadata": {},
      "outputs": [
        {
          "data": {
            "text/plain": [
              "['What Reasons to try chicken are mentioned?',\n",
              " 'what do the participants mention as Expectations from chicken?',\n",
              " 'Compare the opinions regarding liking Bone-in meat versus thigh/thai meat',\n",
              " 'What are some new products and innovations desired in chicken',\n",
              " 'What is the average Experience at McDonald?',\n",
              " 'What is the average Experience at KFC?',\n",
              " 'Give me a Persona mapping of Brands. answer as bullet points',\n",
              " 'What items/products of the menu are Easy to consume?',\n",
              " 'Which items are associated with great fragrance/great smell/great aroma?',\n",
              " 'What are some good sources of protein mentioned in the data?',\n",
              " 'What are the main themes discussed in this conversation? List in bullet points',\n",
              " 'Compare McDonalds with KFC in terms of their taste and range of products']"
            ]
          },
          "execution_count": 31,
          "metadata": {},
          "output_type": "execute_result"
        }
      ],
      "source": [
        "questions=\"\"\"What Reasons to try chicken are mentioned?\n",
        "what do the participants mention as Expectations from chicken?\n",
        "Compare the opinions regarding liking Bone-in meat versus thigh/thai meat\n",
        "What are some new products and innovations desired in chicken\n",
        "What is the average Experience at McDonald?\n",
        "What is the average Experience at KFC?\n",
        "Give me a Persona mapping of Brands. answer as bullet points\n",
        "What items/products of the menu are Easy to consume?\n",
        "Which items are associated with great fragrance/great smell/great aroma?\n",
        "What are some good sources of protein mentioned in the data?\n",
        "What are the main themes discussed in this conversation? List in bullet points\n",
        "Compare McDonalds with KFC in terms of their taste and range of products\"\"\".split(\"\\n\")\n",
        "\n",
        "# questions = \"\"\"What is the major concern with acetoaminophen?\n",
        "# What to avoid when taking acetoaminophen?\n",
        "# What do you assess before taking acetoaminophen?\n",
        "# What is the most common use of acetoaminophen?\n",
        "# What is the most uncommon use of acetoaminophen?\n",
        "# Why is acetaminophen not recommended for children under 6 months?\n",
        "# What organs are affected by acetaminophen?\"\"\".split(\"\\n\")\n",
        "\n",
        "questions"
      ]
    },
    {
      "cell_type": "code",
      "execution_count": 32,
      "metadata": {},
      "outputs": [
        {
          "name": "stderr",
          "output_type": "stream",
          "text": [
            "  0%|          | 0/1 [00:00<?, ?it/s]"
          ]
        },
        {
          "name": "stdout",
          "output_type": "stream",
          "text": [
            "0 requests out of 1 requests either timed out or returned non-parseable outputs ...\n"
          ]
        },
        {
          "name": "stderr",
          "output_type": "stream",
          "text": [
            "100%|██████████| 1/1 [00:06<00:00,  6.91s/it]\n",
            "  0%|          | 0/1 [00:00<?, ?it/s]"
          ]
        },
        {
          "name": "stdout",
          "output_type": "stream",
          "text": [
            "0 requests out of 1 requests either timed out or returned non-parseable outputs ...\n"
          ]
        },
        {
          "name": "stderr",
          "output_type": "stream",
          "text": [
            "100%|██████████| 1/1 [00:06<00:00,  6.75s/it]\n",
            "  0%|          | 0/1 [00:00<?, ?it/s]"
          ]
        },
        {
          "name": "stdout",
          "output_type": "stream",
          "text": [
            "0 requests out of 1 requests either timed out or returned non-parseable outputs ...\n"
          ]
        },
        {
          "name": "stderr",
          "output_type": "stream",
          "text": [
            "100%|██████████| 1/1 [00:06<00:00,  6.26s/it]\n",
            "  0%|          | 0/1 [00:00<?, ?it/s]"
          ]
        },
        {
          "name": "stdout",
          "output_type": "stream",
          "text": [
            "0 requests out of 1 requests either timed out or returned non-parseable outputs ...\n"
          ]
        },
        {
          "name": "stderr",
          "output_type": "stream",
          "text": [
            "100%|██████████| 1/1 [00:05<00:00,  5.78s/it]\n",
            "  0%|          | 0/1 [00:00<?, ?it/s]"
          ]
        },
        {
          "name": "stdout",
          "output_type": "stream",
          "text": [
            "0 requests out of 1 requests either timed out or returned non-parseable outputs ...\n"
          ]
        },
        {
          "name": "stderr",
          "output_type": "stream",
          "text": [
            "100%|██████████| 1/1 [00:03<00:00,  3.53s/it]\n",
            "  0%|          | 0/1 [00:00<?, ?it/s]"
          ]
        },
        {
          "name": "stdout",
          "output_type": "stream",
          "text": [
            "0 requests out of 1 requests either timed out or returned non-parseable outputs ...\n"
          ]
        },
        {
          "name": "stderr",
          "output_type": "stream",
          "text": [
            "100%|██████████| 1/1 [00:03<00:00,  3.66s/it]\n",
            "  0%|          | 0/1 [00:00<?, ?it/s]"
          ]
        },
        {
          "name": "stdout",
          "output_type": "stream",
          "text": [
            "0 requests out of 1 requests either timed out or returned non-parseable outputs ...\n"
          ]
        },
        {
          "name": "stderr",
          "output_type": "stream",
          "text": [
            "100%|██████████| 1/1 [00:05<00:00,  5.47s/it]\n",
            "  0%|          | 0/1 [00:00<?, ?it/s]"
          ]
        },
        {
          "name": "stdout",
          "output_type": "stream",
          "text": [
            "0 requests out of 1 requests either timed out or returned non-parseable outputs ...\n"
          ]
        },
        {
          "name": "stderr",
          "output_type": "stream",
          "text": [
            "100%|██████████| 1/1 [00:05<00:00,  5.06s/it]\n",
            "  0%|          | 0/1 [00:00<?, ?it/s]"
          ]
        },
        {
          "name": "stdout",
          "output_type": "stream",
          "text": [
            "0 requests out of 1 requests either timed out or returned non-parseable outputs ...\n"
          ]
        },
        {
          "name": "stderr",
          "output_type": "stream",
          "text": [
            "100%|██████████| 1/1 [00:04<00:00,  4.08s/it]\n",
            "  0%|          | 0/1 [00:00<?, ?it/s]"
          ]
        },
        {
          "name": "stdout",
          "output_type": "stream",
          "text": [
            "0 requests out of 1 requests either timed out or returned non-parseable outputs ...\n"
          ]
        },
        {
          "name": "stderr",
          "output_type": "stream",
          "text": [
            "100%|██████████| 1/1 [00:04<00:00,  4.94s/it]\n",
            "  0%|          | 0/1 [00:00<?, ?it/s]"
          ]
        },
        {
          "name": "stdout",
          "output_type": "stream",
          "text": [
            "0 requests out of 1 requests either timed out or returned non-parseable outputs ...\n"
          ]
        },
        {
          "name": "stderr",
          "output_type": "stream",
          "text": [
            "100%|██████████| 1/1 [00:04<00:00,  4.31s/it]\n",
            "  0%|          | 0/1 [00:00<?, ?it/s]"
          ]
        },
        {
          "name": "stdout",
          "output_type": "stream",
          "text": [
            "0 requests out of 1 requests either timed out or returned non-parseable outputs ...\n"
          ]
        },
        {
          "name": "stderr",
          "output_type": "stream",
          "text": [
            "100%|██████████| 1/1 [00:06<00:00,  6.66s/it]\n"
          ]
        }
      ],
      "source": [
        "responses = []\n",
        "\n",
        "for question in questions:\n",
        "    try:\n",
        "        responses.append(retrieve_relevant_chunks_and_answer_query(query=question,\n",
        "                                                               llm=rag_llm,\n",
        "                                                            #    retriever=contextual_embedding_bm25_retriever,\n",
        "                                                            #    retriever=contextual_embedding_retriever,\n",
        "                                                               retriever=contextual_embedding_bm25_retriever_rerank,\n",
        "                                                               answer_with_context=False)\n",
        "                        )\n",
        "        \n",
        "    except Exception as e:\n",
        "        print(e)\n",
        "        responses.append({\"query\" : question,\n",
        "                          \"documents retrieved\" : None,\n",
        "                          \"chunks formatted for answering\" : None,\n",
        "                          \"llm_response\" : str(e)})\n",
        "        pass"
      ]
    },
    {
      "cell_type": "code",
      "execution_count": 33,
      "metadata": {},
      "outputs": [
        {
          "data": {
            "text/html": [
              "<div>\n",
              "<style scoped>\n",
              "    .dataframe tbody tr th:only-of-type {\n",
              "        vertical-align: middle;\n",
              "    }\n",
              "\n",
              "    .dataframe tbody tr th {\n",
              "        vertical-align: top;\n",
              "    }\n",
              "\n",
              "    .dataframe thead th {\n",
              "        text-align: right;\n",
              "    }\n",
              "</style>\n",
              "<table border=\"1\" class=\"dataframe\">\n",
              "  <thead>\n",
              "    <tr style=\"text-align: right;\">\n",
              "      <th></th>\n",
              "      <th>query</th>\n",
              "      <th>documents retrieved</th>\n",
              "      <th>chunks formatted for answering</th>\n",
              "      <th>llm_response</th>\n",
              "    </tr>\n",
              "  </thead>\n",
              "  <tbody>\n",
              "    <tr>\n",
              "      <th>0</th>\n",
              "      <td>What Reasons to try chicken are mentioned?</td>\n",
              "      <td>[Node ID: node_11\\nText: This chunk is a discu...</td>\n",
              "      <td>This chunk is a discussion about how to make c...</td>\n",
              "      <td>Based on the provided excerpts, some reasons t...</td>\n",
              "    </tr>\n",
              "    <tr>\n",
              "      <th>1</th>\n",
              "      <td>what do the participants mention as Expectatio...</td>\n",
              "      <td>[Node ID: node_16\\nText: Context: This chunk i...</td>\n",
              "      <td>Context: This chunk is a continuation of the d...</td>\n",
              "      <td>Based on the provided excerpts, the participan...</td>\n",
              "    </tr>\n",
              "    <tr>\n",
              "      <th>2</th>\n",
              "      <td>Compare the opinions regarding liking Bone-in ...</td>\n",
              "      <td>[Node ID: node_8\\nText: This chunk is a discus...</td>\n",
              "      <td>This chunk is a discussion about the consumer'...</td>\n",
              "      <td>Based on the provided excerpts, there is no di...</td>\n",
              "    </tr>\n",
              "    <tr>\n",
              "      <th>3</th>\n",
              "      <td>What are some new products and innovations des...</td>\n",
              "      <td>[Node ID: node_16\\nText: Context: This chunk i...</td>\n",
              "      <td>This chunk is a discussion about the responden...</td>\n",
              "      <td>Based on the provided excerpts, some new produ...</td>\n",
              "    </tr>\n",
              "    <tr>\n",
              "      <th>4</th>\n",
              "      <td>What is the average Experience at McDonald?</td>\n",
              "      <td>[Node ID: node_16\\nText: Context: This chunk i...</td>\n",
              "      <td>Context: This chunk is a continuation of the d...</td>\n",
              "      <td>I apologize, but I cannot provide an average e...</td>\n",
              "    </tr>\n",
              "    <tr>\n",
              "      <th>5</th>\n",
              "      <td>What is the average Experience at KFC?</td>\n",
              "      <td>[Node ID: node_16\\nText: Context: This chunk i...</td>\n",
              "      <td>Context: This chunk is a continuation of the d...</td>\n",
              "      <td>I apologize, but I cannot provide an answer to...</td>\n",
              "    </tr>\n",
              "    <tr>\n",
              "      <th>6</th>\n",
              "      <td>Give me a Persona mapping of Brands. answer as...</td>\n",
              "      <td>[Node ID: node_0\\nText: Context: This chunk is...</td>\n",
              "      <td>Context: This chunk is a discussion about the ...</td>\n",
              "      <td>Here's a persona mapping of fast food chicken ...</td>\n",
              "    </tr>\n",
              "    <tr>\n",
              "      <th>7</th>\n",
              "      <td>What items/products of the menu are Easy to co...</td>\n",
              "      <td>[Node ID: node_20\\nText: This chunk is a discu...</td>\n",
              "      <td>This chunk is a discussion about the consumer'...</td>\n",
              "      <td>Based on the information provided in the excer...</td>\n",
              "    </tr>\n",
              "    <tr>\n",
              "      <th>8</th>\n",
              "      <td>Which items are associated with great fragranc...</td>\n",
              "      <td>[Node ID: node_5\\nText: Context: This chunk is...</td>\n",
              "      <td>Context: This chunk is a continuation of the d...</td>\n",
              "      <td>Based on the provided excerpts, there is no sp...</td>\n",
              "    </tr>\n",
              "    <tr>\n",
              "      <th>9</th>\n",
              "      <td>What are some good sources of protein mentione...</td>\n",
              "      <td>[Node ID: node_11\\nText: This chunk is a discu...</td>\n",
              "      <td>Context: This chunk is a continuation of the d...</td>\n",
              "      <td>Based on the provided excerpts, some good sour...</td>\n",
              "    </tr>\n",
              "    <tr>\n",
              "      <th>10</th>\n",
              "      <td>What are the main themes discussed in this con...</td>\n",
              "      <td>[Node ID: node_20\\nText: This chunk is a discu...</td>\n",
              "      <td>Context: This chunk is a discussion about the ...</td>\n",
              "      <td>Based on the conversation excerpts provided, t...</td>\n",
              "    </tr>\n",
              "    <tr>\n",
              "      <th>11</th>\n",
              "      <td>Compare McDonalds with KFC in terms of their t...</td>\n",
              "      <td>[Node ID: node_5\\nText: Context: This chunk is...</td>\n",
              "      <td>This chunk is a continuation of the discussion...</td>\n",
              "      <td>Based on the provided excerpts, I can compare ...</td>\n",
              "    </tr>\n",
              "  </tbody>\n",
              "</table>\n",
              "</div>"
            ],
            "text/plain": [
              "                                                query  \\\n",
              "0          What Reasons to try chicken are mentioned?   \n",
              "1   what do the participants mention as Expectatio...   \n",
              "2   Compare the opinions regarding liking Bone-in ...   \n",
              "3   What are some new products and innovations des...   \n",
              "4         What is the average Experience at McDonald?   \n",
              "5              What is the average Experience at KFC?   \n",
              "6   Give me a Persona mapping of Brands. answer as...   \n",
              "7   What items/products of the menu are Easy to co...   \n",
              "8   Which items are associated with great fragranc...   \n",
              "9   What are some good sources of protein mentione...   \n",
              "10  What are the main themes discussed in this con...   \n",
              "11  Compare McDonalds with KFC in terms of their t...   \n",
              "\n",
              "                                  documents retrieved  \\\n",
              "0   [Node ID: node_11\\nText: This chunk is a discu...   \n",
              "1   [Node ID: node_16\\nText: Context: This chunk i...   \n",
              "2   [Node ID: node_8\\nText: This chunk is a discus...   \n",
              "3   [Node ID: node_16\\nText: Context: This chunk i...   \n",
              "4   [Node ID: node_16\\nText: Context: This chunk i...   \n",
              "5   [Node ID: node_16\\nText: Context: This chunk i...   \n",
              "6   [Node ID: node_0\\nText: Context: This chunk is...   \n",
              "7   [Node ID: node_20\\nText: This chunk is a discu...   \n",
              "8   [Node ID: node_5\\nText: Context: This chunk is...   \n",
              "9   [Node ID: node_11\\nText: This chunk is a discu...   \n",
              "10  [Node ID: node_20\\nText: This chunk is a discu...   \n",
              "11  [Node ID: node_5\\nText: Context: This chunk is...   \n",
              "\n",
              "                       chunks formatted for answering  \\\n",
              "0   This chunk is a discussion about how to make c...   \n",
              "1   Context: This chunk is a continuation of the d...   \n",
              "2   This chunk is a discussion about the consumer'...   \n",
              "3   This chunk is a discussion about the responden...   \n",
              "4   Context: This chunk is a continuation of the d...   \n",
              "5   Context: This chunk is a continuation of the d...   \n",
              "6   Context: This chunk is a discussion about the ...   \n",
              "7   This chunk is a discussion about the consumer'...   \n",
              "8   Context: This chunk is a continuation of the d...   \n",
              "9   Context: This chunk is a continuation of the d...   \n",
              "10  Context: This chunk is a discussion about the ...   \n",
              "11  This chunk is a continuation of the discussion...   \n",
              "\n",
              "                                         llm_response  \n",
              "0   Based on the provided excerpts, some reasons t...  \n",
              "1   Based on the provided excerpts, the participan...  \n",
              "2   Based on the provided excerpts, there is no di...  \n",
              "3   Based on the provided excerpts, some new produ...  \n",
              "4   I apologize, but I cannot provide an average e...  \n",
              "5   I apologize, but I cannot provide an answer to...  \n",
              "6   Here's a persona mapping of fast food chicken ...  \n",
              "7   Based on the information provided in the excer...  \n",
              "8   Based on the provided excerpts, there is no sp...  \n",
              "9   Based on the provided excerpts, some good sour...  \n",
              "10  Based on the conversation excerpts provided, t...  \n",
              "11  Based on the provided excerpts, I can compare ...  "
            ]
          },
          "execution_count": 33,
          "metadata": {},
          "output_type": "execute_result"
        }
      ],
      "source": [
        "pd.DataFrame(responses)\n",
        "# .to_excel(\"./Outputs/chicken_data_llamaindex_contextual_bm25_retrieval_rerank.xlsx\", index=False)"
      ]
    },
    {
      "cell_type": "code",
      "execution_count": null,
      "metadata": {},
      "outputs": [],
      "source": []
    }
  ],
  "metadata": {
    "colab": {
      "provenance": []
    },
    "kernelspec": {
      "display_name": "venv",
      "language": "python",
      "name": "python3"
    },
    "language_info": {
      "codemirror_mode": {
        "name": "ipython",
        "version": 3
      },
      "file_extension": ".py",
      "mimetype": "text/x-python",
      "name": "python",
      "nbconvert_exporter": "python",
      "pygments_lexer": "ipython3",
      "version": "3.10.14"
    }
  },
  "nbformat": 4,
  "nbformat_minor": 0
}
